{
  "nbformat": 4,
  "nbformat_minor": 0,
  "metadata": {
    "colab": {
      "provenance": [],
      "authorship_tag": "ABX9TyMUgkyTDuI2mNQida+WCyjr",
      "include_colab_link": true
    },
    "kernelspec": {
      "name": "python3",
      "display_name": "Python 3"
    },
    "language_info": {
      "name": "python"
    }
  },
  "cells": [
    {
      "cell_type": "markdown",
      "metadata": {
        "id": "view-in-github",
        "colab_type": "text"
      },
      "source": [
        "<a href=\"https://colab.research.google.com/github/pragatisachan/ProjectChalenge1/blob/main/spark_corr.ipynb\" target=\"_parent\"><img src=\"https://colab.research.google.com/assets/colab-badge.svg\" alt=\"Open In Colab\"/></a>"
      ]
    },
    {
      "cell_type": "code",
      "execution_count": 1,
      "metadata": {
        "id": "BFqb2wE0wmh2",
        "colab": {
          "base_uri": "https://localhost:8080/"
        },
        "outputId": "f358fbed-d50a-4763-fe28-078496c55587"
      },
      "outputs": [
        {
          "output_type": "stream",
          "name": "stdout",
          "text": [
            "Collecting pyspark\n",
            "  Downloading pyspark-3.5.1.tar.gz (317.0 MB)\n",
            "\u001b[2K     \u001b[90m━━━━━━━━━━━━━━━━━━━━━━━━━━━━━━━━━━━━━━━━\u001b[0m \u001b[32m317.0/317.0 MB\u001b[0m \u001b[31m4.0 MB/s\u001b[0m eta \u001b[36m0:00:00\u001b[0m\n",
            "\u001b[?25h  Preparing metadata (setup.py) ... \u001b[?25l\u001b[?25hdone\n",
            "Requirement already satisfied: py4j==0.10.9.7 in /usr/local/lib/python3.10/dist-packages (from pyspark) (0.10.9.7)\n",
            "Building wheels for collected packages: pyspark\n",
            "  Building wheel for pyspark (setup.py) ... \u001b[?25l\u001b[?25hdone\n",
            "  Created wheel for pyspark: filename=pyspark-3.5.1-py2.py3-none-any.whl size=317488493 sha256=90b3595216b9422887c2a72e8c6d53d50e6b3e074a4f9f33624ab8e426b58b0a\n",
            "  Stored in directory: /root/.cache/pip/wheels/80/1d/60/2c256ed38dddce2fdd93be545214a63e02fbd8d74fb0b7f3a6\n",
            "Successfully built pyspark\n",
            "Installing collected packages: pyspark\n",
            "Successfully installed pyspark-3.5.1\n"
          ]
        }
      ],
      "source": [
        "pip install pyspark"
      ]
    },
    {
      "cell_type": "code",
      "source": [
        "import pyspark\n"
      ],
      "metadata": {
        "id": "VNS8ZmkolebC"
      },
      "execution_count": 57,
      "outputs": []
    },
    {
      "cell_type": "code",
      "source": [
        "from pyspark.sql import SparkSession\n"
      ],
      "metadata": {
        "id": "YoRyVHIdlg-7"
      },
      "execution_count": 3,
      "outputs": []
    },
    {
      "cell_type": "code",
      "source": [
        "Spark = SparkSession.builder.appName('Practice').getOrCreate()\n"
      ],
      "metadata": {
        "id": "KO9bmgVol2HD"
      },
      "execution_count": 6,
      "outputs": []
    },
    {
      "cell_type": "code",
      "source": [
        "df = Spark.read.csv(\"/content/card_transdata.csv\" )\n"
      ],
      "metadata": {
        "id": "iXv7iVNVlstM"
      },
      "execution_count": 7,
      "outputs": []
    },
    {
      "cell_type": "code",
      "source": [
        "df = Spark.read.option('header' , 'true').csv(\"/content/card_transdata.csv\").show()\n",
        "df\n"
      ],
      "metadata": {
        "colab": {
          "base_uri": "https://localhost:8080/"
        },
        "id": "bPsvldslmj3g",
        "outputId": "e0e3bc6c-5708-41fe-d2ab-63c243a427d5"
      },
      "execution_count": 8,
      "outputs": [
        {
          "output_type": "stream",
          "name": "stdout",
          "text": [
            "+------------------+------------------------------+------------------------------+---------------+---------+---------------+------------+-----+\n",
            "|distance_from_home|distance_from_last_transaction|ratio_to_median_purchase_price|repeat_retailer|used_chip|used_pin_number|online_order|fraud|\n",
            "+------------------+------------------------------+------------------------------+---------------+---------+---------------+------------+-----+\n",
            "| 57.87785658389723|            0.3111400080477545|            1.9459399775518593|            1.0|      1.0|            0.0|         0.0|  0.0|\n",
            "|10.829942699255545|           0.17559150228166587|            1.2942188106198573|            1.0|      0.0|            0.0|         0.0|  0.0|\n",
            "| 5.091079490616996|            0.8051525945853258|           0.42771456119427587|            1.0|      0.0|            0.0|         1.0|  0.0|\n",
            "|2.2475643282963613|              5.60004354707232|           0.36266257805709584|            1.0|      1.0|            0.0|         1.0|  0.0|\n",
            "| 44.19093600261837|            0.5664862680583477|            2.2227672978404707|            1.0|      1.0|            0.0|         1.0|  0.0|\n",
            "| 5.586407674186407|            13.261073268058121|           0.06476846537046335|            1.0|      0.0|            0.0|         0.0|  0.0|\n",
            "|3.7240191247148107|            0.9568379284821842|           0.27846494490815554|            1.0|      0.0|            0.0|         1.0|  0.0|\n",
            "|4.8482465722805665|            0.3207354272228163|            1.2730495235601782|            1.0|      0.0|            1.0|         0.0|  0.0|\n",
            "|0.8766322564943629|            2.5036089266921437|            1.5169993152858177|            0.0|      0.0|            0.0|         0.0|  0.0|\n",
            "|  8.83904670372637|            2.9705122760243827|              2.36168254706846|            1.0|      0.0|            0.0|         1.0|  0.0|\n",
            "|14.263529735069081|            0.1587580860346303|            1.1361019405394772|            1.0|      1.0|            0.0|         1.0|  0.0|\n",
            "|13.592367567909633|             0.240539812984415|            1.3703298614332031|            1.0|      1.0|            0.0|         1.0|  0.0|\n",
            "| 765.2825592612469|            0.3715619621963146|            0.5512447476281009|            1.0|      1.0|            0.0|         0.0|  0.0|\n",
            "| 2.131955665990563|              56.3724005365082|             6.358667321630612|            1.0|      0.0|            0.0|         1.0|  1.0|\n",
            "| 13.95597236704443|           0.27152152834856924|             2.798901124938246|            1.0|      0.0|            0.0|         1.0|  0.0|\n",
            "| 179.6651476857078|           0.12091963755751828|            0.5356404825310114|            1.0|      1.0|            1.0|         1.0|  0.0|\n",
            "|114.51978939161216|            0.7070032526577117|             0.516989925221995|            1.0|      0.0|            0.0|         0.0|  0.0|\n",
            "|3.5896485976213444|             6.247457541963805|            1.8464505265933646|            1.0|      0.0|            0.0|         0.0|  0.0|\n",
            "|11.085152484057602|             34.66135141778853|             2.530758449146248|            1.0|      0.0|            0.0|         1.0|  0.0|\n",
            "| 6.194670766326057|             1.142014235500891|            0.3072166087549278|            1.0|      0.0|            0.0|         0.0|  0.0|\n",
            "+------------------+------------------------------+------------------------------+---------------+---------+---------------+------------+-----+\n",
            "only showing top 20 rows\n",
            "\n"
          ]
        }
      ]
    },
    {
      "cell_type": "code",
      "source": [
        "df = Spark.read.csv('/content/card_transdata.csv' , header = True , inferSchema=True)\n",
        "df.show()\n"
      ],
      "metadata": {
        "colab": {
          "base_uri": "https://localhost:8080/"
        },
        "id": "Su-nqHD7m_aI",
        "outputId": "f6066a51-ea25-414e-b3f4-914297da93bf"
      },
      "execution_count": 9,
      "outputs": [
        {
          "output_type": "stream",
          "name": "stdout",
          "text": [
            "+------------------+------------------------------+------------------------------+---------------+---------+---------------+------------+-----+\n",
            "|distance_from_home|distance_from_last_transaction|ratio_to_median_purchase_price|repeat_retailer|used_chip|used_pin_number|online_order|fraud|\n",
            "+------------------+------------------------------+------------------------------+---------------+---------+---------------+------------+-----+\n",
            "| 57.87785658389723|            0.3111400080477545|            1.9459399775518593|            1.0|      1.0|            0.0|         0.0|  0.0|\n",
            "|10.829942699255545|           0.17559150228166587|            1.2942188106198573|            1.0|      0.0|            0.0|         0.0|  0.0|\n",
            "| 5.091079490616996|            0.8051525945853258|           0.42771456119427587|            1.0|      0.0|            0.0|         1.0|  0.0|\n",
            "|2.2475643282963613|              5.60004354707232|           0.36266257805709584|            1.0|      1.0|            0.0|         1.0|  0.0|\n",
            "| 44.19093600261837|            0.5664862680583477|            2.2227672978404707|            1.0|      1.0|            0.0|         1.0|  0.0|\n",
            "| 5.586407674186407|            13.261073268058121|           0.06476846537046335|            1.0|      0.0|            0.0|         0.0|  0.0|\n",
            "|3.7240191247148107|            0.9568379284821842|           0.27846494490815554|            1.0|      0.0|            0.0|         1.0|  0.0|\n",
            "|4.8482465722805665|            0.3207354272228163|            1.2730495235601782|            1.0|      0.0|            1.0|         0.0|  0.0|\n",
            "|0.8766322564943629|            2.5036089266921437|            1.5169993152858177|            0.0|      0.0|            0.0|         0.0|  0.0|\n",
            "|  8.83904670372637|            2.9705122760243827|              2.36168254706846|            1.0|      0.0|            0.0|         1.0|  0.0|\n",
            "|14.263529735069081|            0.1587580860346303|            1.1361019405394772|            1.0|      1.0|            0.0|         1.0|  0.0|\n",
            "|13.592367567909633|             0.240539812984415|            1.3703298614332031|            1.0|      1.0|            0.0|         1.0|  0.0|\n",
            "| 765.2825592612469|            0.3715619621963146|            0.5512447476281009|            1.0|      1.0|            0.0|         0.0|  0.0|\n",
            "| 2.131955665990563|              56.3724005365082|             6.358667321630612|            1.0|      0.0|            0.0|         1.0|  1.0|\n",
            "| 13.95597236704443|           0.27152152834856924|             2.798901124938246|            1.0|      0.0|            0.0|         1.0|  0.0|\n",
            "| 179.6651476857078|           0.12091963755751828|            0.5356404825310114|            1.0|      1.0|            1.0|         1.0|  0.0|\n",
            "|114.51978939161216|            0.7070032526577117|             0.516989925221995|            1.0|      0.0|            0.0|         0.0|  0.0|\n",
            "|3.5896485976213444|             6.247457541963805|            1.8464505265933646|            1.0|      0.0|            0.0|         0.0|  0.0|\n",
            "|11.085152484057602|             34.66135141778853|             2.530758449146248|            1.0|      0.0|            0.0|         1.0|  0.0|\n",
            "| 6.194670766326057|             1.142014235500891|            0.3072166087549278|            1.0|      0.0|            0.0|         0.0|  0.0|\n",
            "+------------------+------------------------------+------------------------------+---------------+---------+---------------+------------+-----+\n",
            "only showing top 20 rows\n",
            "\n"
          ]
        }
      ]
    },
    {
      "cell_type": "code",
      "source": [
        "df.printSchema()\n"
      ],
      "metadata": {
        "colab": {
          "base_uri": "https://localhost:8080/"
        },
        "id": "cTYhF_W5nWix",
        "outputId": "71d174da-db34-4ed0-f291-76c1398911fb"
      },
      "execution_count": 10,
      "outputs": [
        {
          "output_type": "stream",
          "name": "stdout",
          "text": [
            "root\n",
            " |-- distance_from_home: double (nullable = true)\n",
            " |-- distance_from_last_transaction: double (nullable = true)\n",
            " |-- ratio_to_median_purchase_price: double (nullable = true)\n",
            " |-- repeat_retailer: double (nullable = true)\n",
            " |-- used_chip: double (nullable = true)\n",
            " |-- used_pin_number: double (nullable = true)\n",
            " |-- online_order: double (nullable = true)\n",
            " |-- fraud: double (nullable = true)\n",
            "\n"
          ]
        }
      ]
    },
    {
      "cell_type": "code",
      "source": [
        "df.columns\n"
      ],
      "metadata": {
        "colab": {
          "base_uri": "https://localhost:8080/"
        },
        "id": "xHtK5S5Fy4V3",
        "outputId": "191d9b82-42d0-4876-fb48-048d874245a2"
      },
      "execution_count": 11,
      "outputs": [
        {
          "output_type": "execute_result",
          "data": {
            "text/plain": [
              "['distance_from_home',\n",
              " 'distance_from_last_transaction',\n",
              " 'ratio_to_median_purchase_price',\n",
              " 'repeat_retailer',\n",
              " 'used_chip',\n",
              " 'used_pin_number',\n",
              " 'online_order',\n",
              " 'fraud']"
            ]
          },
          "metadata": {},
          "execution_count": 11
        }
      ]
    },
    {
      "cell_type": "code",
      "source": [
        "# corrleation = df.corr()\n",
        "# corrleation\n"
      ],
      "metadata": {
        "id": "sIPI6T89V7tx"
      },
      "execution_count": 31,
      "outputs": []
    },
    {
      "cell_type": "code",
      "source": [
        "df.corr(\"distance_from_home\" , \"fraud\")\n"
      ],
      "metadata": {
        "colab": {
          "base_uri": "https://localhost:8080/"
        },
        "id": "zr_za4PafbkZ",
        "outputId": "d3392823-f739-4c9c-ec7c-5827656927a6"
      },
      "execution_count": 13,
      "outputs": [
        {
          "output_type": "execute_result",
          "data": {
            "text/plain": [
              "0.18790779940319666"
            ]
          },
          "metadata": {},
          "execution_count": 13
        }
      ]
    },
    {
      "cell_type": "code",
      "source": [
        "df.corr(\"distance_from_last_transaction\" , \"fraud\")\n"
      ],
      "metadata": {
        "colab": {
          "base_uri": "https://localhost:8080/"
        },
        "id": "4usj2Oa_yAZk",
        "outputId": "854fa9fa-626a-40dc-c3e9-dc95f2283a40"
      },
      "execution_count": 14,
      "outputs": [
        {
          "output_type": "execute_result",
          "data": {
            "text/plain": [
              "0.09878003733841226"
            ]
          },
          "metadata": {},
          "execution_count": 14
        }
      ]
    },
    {
      "cell_type": "code",
      "source": [
        "df.corr(\"ratio_to_median_purchase_price\" , \"fraud\")\n"
      ],
      "metadata": {
        "colab": {
          "base_uri": "https://localhost:8080/"
        },
        "id": "2g1xP9q3yLHQ",
        "outputId": "db0b1057-cadc-41f6-c5c4-737d8a92f794"
      },
      "execution_count": 15,
      "outputs": [
        {
          "output_type": "execute_result",
          "data": {
            "text/plain": [
              "0.46184521796140604"
            ]
          },
          "metadata": {},
          "execution_count": 15
        }
      ]
    },
    {
      "cell_type": "markdown",
      "source": [],
      "metadata": {
        "id": "6r-_4RQr-LHV"
      }
    },
    {
      "cell_type": "code",
      "source": [
        "df.corr(\"repeat_retailer\" , \"fraud\")\n"
      ],
      "metadata": {
        "colab": {
          "base_uri": "https://localhost:8080/"
        },
        "id": "86G_VP7syUay",
        "outputId": "aa9eebf6-a63f-416c-ee7c-cdb91cfa8f79"
      },
      "execution_count": 16,
      "outputs": [
        {
          "output_type": "execute_result",
          "data": {
            "text/plain": [
              "-0.0011475367246153887"
            ]
          },
          "metadata": {},
          "execution_count": 16
        }
      ]
    },
    {
      "cell_type": "code",
      "source": [
        "df.corr(\"used_chip\" , \"fraud\")"
      ],
      "metadata": {
        "colab": {
          "base_uri": "https://localhost:8080/"
        },
        "id": "7BZYyrBVyVVj",
        "outputId": "75c419c2-e5b5-48a6-9ee0-140b2e2af661"
      },
      "execution_count": 17,
      "outputs": [
        {
          "output_type": "execute_result",
          "data": {
            "text/plain": [
              "-0.06115005419846402"
            ]
          },
          "metadata": {},
          "execution_count": 17
        }
      ]
    },
    {
      "cell_type": "code",
      "source": [
        "df.corr(\"used_pin_number\" , \"fraud\")\n"
      ],
      "metadata": {
        "colab": {
          "base_uri": "https://localhost:8080/"
        },
        "id": "DuzTOhCfyWOE",
        "outputId": "4f22c932-6062-4662-f492-acbd9b349b94"
      },
      "execution_count": 18,
      "outputs": [
        {
          "output_type": "execute_result",
          "data": {
            "text/plain": [
              "-0.10046176050170984"
            ]
          },
          "metadata": {},
          "execution_count": 18
        }
      ]
    },
    {
      "cell_type": "code",
      "source": [
        "df.corr(\"online_order\" , \"fraud\")\n"
      ],
      "metadata": {
        "colab": {
          "base_uri": "https://localhost:8080/"
        },
        "id": "uxyyWMJnyldz",
        "outputId": "3092a5f1-ed92-410c-8c71-beec2f058628"
      },
      "execution_count": 19,
      "outputs": [
        {
          "output_type": "execute_result",
          "data": {
            "text/plain": [
              "0.19150035064811433"
            ]
          },
          "metadata": {},
          "execution_count": 19
        }
      ]
    },
    {
      "cell_type": "code",
      "source": [
        "df.corr(\"fraud\" , \"fraud\")\n"
      ],
      "metadata": {
        "colab": {
          "base_uri": "https://localhost:8080/"
        },
        "id": "Wsd7T8vDysMM",
        "outputId": "f5a3d1a8-96de-4004-f82c-1ea2928887f5"
      },
      "execution_count": 20,
      "outputs": [
        {
          "output_type": "execute_result",
          "data": {
            "text/plain": [
              "1.0"
            ]
          },
          "metadata": {},
          "execution_count": 20
        }
      ]
    },
    {
      "cell_type": "code",
      "source": [
        "pip install matplotlib seaborn pyspark\n"
      ],
      "metadata": {
        "colab": {
          "base_uri": "https://localhost:8080/"
        },
        "id": "U3kJtNiQz6E8",
        "outputId": "65add618-c18f-4cc3-fd78-5fbec3ba0438"
      },
      "execution_count": 21,
      "outputs": [
        {
          "output_type": "stream",
          "name": "stdout",
          "text": [
            "Requirement already satisfied: matplotlib in /usr/local/lib/python3.10/dist-packages (3.7.1)\n",
            "Requirement already satisfied: seaborn in /usr/local/lib/python3.10/dist-packages (0.13.1)\n",
            "Requirement already satisfied: pyspark in /usr/local/lib/python3.10/dist-packages (3.5.1)\n",
            "Requirement already satisfied: contourpy>=1.0.1 in /usr/local/lib/python3.10/dist-packages (from matplotlib) (1.2.0)\n",
            "Requirement already satisfied: cycler>=0.10 in /usr/local/lib/python3.10/dist-packages (from matplotlib) (0.12.1)\n",
            "Requirement already satisfied: fonttools>=4.22.0 in /usr/local/lib/python3.10/dist-packages (from matplotlib) (4.49.0)\n",
            "Requirement already satisfied: kiwisolver>=1.0.1 in /usr/local/lib/python3.10/dist-packages (from matplotlib) (1.4.5)\n",
            "Requirement already satisfied: numpy>=1.20 in /usr/local/lib/python3.10/dist-packages (from matplotlib) (1.25.2)\n",
            "Requirement already satisfied: packaging>=20.0 in /usr/local/lib/python3.10/dist-packages (from matplotlib) (23.2)\n",
            "Requirement already satisfied: pillow>=6.2.0 in /usr/local/lib/python3.10/dist-packages (from matplotlib) (9.4.0)\n",
            "Requirement already satisfied: pyparsing>=2.3.1 in /usr/local/lib/python3.10/dist-packages (from matplotlib) (3.1.1)\n",
            "Requirement already satisfied: python-dateutil>=2.7 in /usr/local/lib/python3.10/dist-packages (from matplotlib) (2.8.2)\n",
            "Requirement already satisfied: pandas>=1.2 in /usr/local/lib/python3.10/dist-packages (from seaborn) (1.5.3)\n",
            "Requirement already satisfied: py4j==0.10.9.7 in /usr/local/lib/python3.10/dist-packages (from pyspark) (0.10.9.7)\n",
            "Requirement already satisfied: pytz>=2020.1 in /usr/local/lib/python3.10/dist-packages (from pandas>=1.2->seaborn) (2023.4)\n",
            "Requirement already satisfied: six>=1.5 in /usr/local/lib/python3.10/dist-packages (from python-dateutil>=2.7->matplotlib) (1.16.0)\n"
          ]
        }
      ]
    },
    {
      "cell_type": "code",
      "source": [
        "from pyspark.ml.feature import VectorAssembler\n"
      ],
      "metadata": {
        "id": "UBSO6hTU6leN"
      },
      "execution_count": 32,
      "outputs": []
    },
    {
      "cell_type": "markdown",
      "source": [],
      "metadata": {
        "id": "jKYlewr3JSfY"
      }
    },
    {
      "cell_type": "code",
      "source": [
        "vector_col = \"corr_features\"\n"
      ],
      "metadata": {
        "id": "gAw86AqV7ghN"
      },
      "execution_count": 33,
      "outputs": []
    },
    {
      "cell_type": "code",
      "source": [
        "df.columns\n"
      ],
      "metadata": {
        "colab": {
          "base_uri": "https://localhost:8080/"
        },
        "id": "xm2yd9SK7mfa",
        "outputId": "40feb91e-5479-4714-b258-6cc29fb72631"
      },
      "execution_count": 34,
      "outputs": [
        {
          "output_type": "execute_result",
          "data": {
            "text/plain": [
              "['distance_from_home',\n",
              " 'distance_from_last_transaction',\n",
              " 'ratio_to_median_purchase_price',\n",
              " 'repeat_retailer',\n",
              " 'used_chip',\n",
              " 'used_pin_number',\n",
              " 'online_order',\n",
              " 'fraud']"
            ]
          },
          "metadata": {},
          "execution_count": 34
        }
      ]
    },
    {
      "cell_type": "code",
      "source": [
        "assembler = VectorAssembler(inputCols=df.columns , outputCol= vector_col)\n"
      ],
      "metadata": {
        "id": "IzaRhOhC7p3r"
      },
      "execution_count": 35,
      "outputs": []
    },
    {
      "cell_type": "code",
      "source": [
        "df_vector = assembler.transform(df).select(vector_col)\n"
      ],
      "metadata": {
        "id": "0dm98u6e79g1"
      },
      "execution_count": 36,
      "outputs": []
    },
    {
      "cell_type": "code",
      "source": [
        "df_vector\n"
      ],
      "metadata": {
        "colab": {
          "base_uri": "https://localhost:8080/"
        },
        "id": "FCkSjyyk8OS8",
        "outputId": "d178f1b3-4708-44f2-bc38-bb6b0cc5b690"
      },
      "execution_count": 37,
      "outputs": [
        {
          "output_type": "execute_result",
          "data": {
            "text/plain": [
              "DataFrame[corr_features: vector]"
            ]
          },
          "metadata": {},
          "execution_count": 37
        }
      ]
    },
    {
      "cell_type": "code",
      "source": [
        "from pyspark.ml.stat import Correlation\n"
      ],
      "metadata": {
        "id": "WcSOVoeW8t1B"
      },
      "execution_count": 38,
      "outputs": []
    },
    {
      "cell_type": "code",
      "source": [
        "matrix = Correlation.corr(df_vector , vector_col).collect()[0][0]\n"
      ],
      "metadata": {
        "id": "K7xzcq5L8RwM"
      },
      "execution_count": 39,
      "outputs": []
    },
    {
      "cell_type": "code",
      "source": [
        "corrmatrix = matrix.toArray().tolist()\n"
      ],
      "metadata": {
        "id": "r29aRg1P83aE"
      },
      "execution_count": 40,
      "outputs": []
    },
    {
      "cell_type": "code",
      "source": [
        "corrmatrix\n"
      ],
      "metadata": {
        "colab": {
          "base_uri": "https://localhost:8080/"
        },
        "id": "2S_vZA969FsD",
        "outputId": "6ad94f6f-4341-4d18-e085-d48315085343"
      },
      "execution_count": 41,
      "outputs": [
        {
          "output_type": "execute_result",
          "data": {
            "text/plain": [
              "[[1.0,\n",
              "  -0.0012498216754251639,\n",
              "  -0.001788013343586249,\n",
              "  0.14613860017659266,\n",
              "  0.0016185184843323214,\n",
              "  -0.0011071333052813123,\n",
              "  -0.003048934569343122,\n",
              "  0.18790779940329572],\n",
              " [-0.0012498216754251639,\n",
              "  1.0,\n",
              "  -0.0007208383509684481,\n",
              "  -0.005791350582480571,\n",
              "  0.0015539687759239566,\n",
              "  0.000927747142882833,\n",
              "  0.000489441663753008,\n",
              "  0.09878002875482161],\n",
              " [-0.001788013343586249,\n",
              "  -0.0007208383509684481,\n",
              "  1.0,\n",
              "  -0.00038002940707719264,\n",
              "  0.0009045049837426442,\n",
              "  -0.0011962907070828767,\n",
              "  0.0012979511134928426,\n",
              "  0.46184519419984815],\n",
              " [0.14613860017659266,\n",
              "  -0.005791350582480571,\n",
              "  -0.00038002940707719264,\n",
              "  1.0,\n",
              "  -0.002943039290438686,\n",
              "  -0.002160677069601752,\n",
              "  -0.0014543038331442353,\n",
              "  -0.0011518838119935662],\n",
              " [0.0016185184843323214,\n",
              "  0.0015539687759239566,\n",
              "  0.0009045049837426442,\n",
              "  -0.002943039290438686,\n",
              "  1.0,\n",
              "  -0.0006201706083193151,\n",
              "  0.00157598883037557,\n",
              "  -0.061150054198518204],\n",
              " [-0.0011071333052813123,\n",
              "  0.000927747142882833,\n",
              "  -0.0011962907070828767,\n",
              "  -0.002160677069601752,\n",
              "  -0.0006201706083193151,\n",
              "  1.0,\n",
              "  0.0013591965483968128,\n",
              "  -0.10046176050171836],\n",
              " [-0.003048934569343122,\n",
              "  0.000489441663753008,\n",
              "  0.0012979511134928426,\n",
              "  -0.0014543038331442353,\n",
              "  0.00157598883037557,\n",
              "  0.0013591965483968128,\n",
              "  1.0,\n",
              "  0.19150035064821175],\n",
              " [0.18790779940329572,\n",
              "  0.09878002875482161,\n",
              "  0.46184519419984815,\n",
              "  -0.0011518838119935662,\n",
              "  -0.061150054198518204,\n",
              "  -0.10046176050171836,\n",
              "  0.19150035064821175,\n",
              "  1.0]]"
            ]
          },
          "metadata": {},
          "execution_count": 41
        }
      ]
    },
    {
      "cell_type": "code",
      "source": [
        "df.columns\n"
      ],
      "metadata": {
        "colab": {
          "base_uri": "https://localhost:8080/"
        },
        "id": "KVdL4Yu89Jdx",
        "outputId": "853e80f4-3a6f-4a30-c13d-7d6c0bc9fefc"
      },
      "execution_count": 42,
      "outputs": [
        {
          "output_type": "execute_result",
          "data": {
            "text/plain": [
              "['distance_from_home',\n",
              " 'distance_from_last_transaction',\n",
              " 'ratio_to_median_purchase_price',\n",
              " 'repeat_retailer',\n",
              " 'used_chip',\n",
              " 'used_pin_number',\n",
              " 'online_order',\n",
              " 'fraud']"
            ]
          },
          "metadata": {},
          "execution_count": 42
        }
      ]
    },
    {
      "cell_type": "code",
      "source": [
        "columns = ['distance_from_home',\n",
        " 'distance_from_last_transaction',\n",
        " 'ratio_to_median_purchase_price',\n",
        " 'repeat_retailer',\n",
        " 'used_chip',\n",
        " 'used_pin_number',\n",
        " 'online_order',\n",
        " 'fraud']\n",
        ""
      ],
      "metadata": {
        "id": "5NSxQi-49OT4"
      },
      "execution_count": 43,
      "outputs": []
    },
    {
      "cell_type": "code",
      "source": [
        "df_corr = Spark.createDataFrame(corrmatrix , columns)\n"
      ],
      "metadata": {
        "id": "ZYt1crtG9Um9"
      },
      "execution_count": 44,
      "outputs": []
    },
    {
      "cell_type": "code",
      "source": [
        "df_corr.show()\n"
      ],
      "metadata": {
        "colab": {
          "base_uri": "https://localhost:8080/"
        },
        "id": "YFBGphpu9mT4",
        "outputId": "d32d676a-8f82-4675-e9f7-c9fc7d554420"
      },
      "execution_count": 45,
      "outputs": [
        {
          "output_type": "stream",
          "name": "stdout",
          "text": [
            "+--------------------+------------------------------+------------------------------+--------------------+--------------------+--------------------+--------------------+--------------------+\n",
            "|  distance_from_home|distance_from_last_transaction|ratio_to_median_purchase_price|     repeat_retailer|           used_chip|     used_pin_number|        online_order|               fraud|\n",
            "+--------------------+------------------------------+------------------------------+--------------------+--------------------+--------------------+--------------------+--------------------+\n",
            "|                 1.0|          -0.00124982167542...|          -0.00178801334358...| 0.14613860017659266|0.001618518484332...|-0.00110713330528...|-0.00304893456934...| 0.18790779940329572|\n",
            "|-0.00124982167542...|                           1.0|          -7.20838350968448...|-0.00579135058248...|0.001553968775923...| 9.27747142882833E-4| 4.89441663753008E-4| 0.09878002875482161|\n",
            "|-0.00178801334358...|          -7.20838350968448...|                           1.0|-3.80029407077192...|9.045049837426442E-4|-0.00119629070708...|0.001297951113492...| 0.46184519419984815|\n",
            "| 0.14613860017659266|          -0.00579135058248...|          -3.80029407077192...|                 1.0|-0.00294303929043...|-0.00216067706960...|-0.00145430383314...|-0.00115188381199...|\n",
            "|0.001618518484332...|          0.001553968775923...|          9.045049837426442E-4|-0.00294303929043...|                 1.0|-6.20170608319315...| 0.00157598883037557|-0.06115005419851...|\n",
            "|-0.00110713330528...|           9.27747142882833E-4|          -0.00119629070708...|-0.00216067706960...|-6.20170608319315...|                 1.0|0.001359196548396...|-0.10046176050171836|\n",
            "|-0.00304893456934...|           4.89441663753008E-4|          0.001297951113492...|-0.00145430383314...| 0.00157598883037557|0.001359196548396...|                 1.0| 0.19150035064821175|\n",
            "| 0.18790779940329572|           0.09878002875482161|           0.46184519419984815|-0.00115188381199...|-0.06115005419851...|-0.10046176050171836| 0.19150035064821175|                 1.0|\n",
            "+--------------------+------------------------------+------------------------------+--------------------+--------------------+--------------------+--------------------+--------------------+\n",
            "\n"
          ]
        }
      ]
    },
    {
      "cell_type": "code",
      "source": [
        "df.columns\n"
      ],
      "metadata": {
        "colab": {
          "base_uri": "https://localhost:8080/"
        },
        "id": "KAwfZ9hw9q66",
        "outputId": "9ce70b4c-a609-4a16-edc3-d59f034e1d72"
      },
      "execution_count": 46,
      "outputs": [
        {
          "output_type": "execute_result",
          "data": {
            "text/plain": [
              "['distance_from_home',\n",
              " 'distance_from_last_transaction',\n",
              " 'ratio_to_median_purchase_price',\n",
              " 'repeat_retailer',\n",
              " 'used_chip',\n",
              " 'used_pin_number',\n",
              " 'online_order',\n",
              " 'fraud']"
            ]
          },
          "metadata": {},
          "execution_count": 46
        }
      ]
    },
    {
      "cell_type": "code",
      "source": [
        "df_corr['distance_from_home','distance_from_last_transaction','fraud'].show()\n"
      ],
      "metadata": {
        "colab": {
          "base_uri": "https://localhost:8080/"
        },
        "id": "1VpFx79R9tS3",
        "outputId": "e2e25431-8e0b-4929-f580-435a1d5b9334"
      },
      "execution_count": 52,
      "outputs": [
        {
          "output_type": "stream",
          "name": "stdout",
          "text": [
            "+--------------------+------------------------------+--------------------+\n",
            "|  distance_from_home|distance_from_last_transaction|               fraud|\n",
            "+--------------------+------------------------------+--------------------+\n",
            "|                 1.0|          -0.00124982167542...| 0.18790779940329572|\n",
            "|-0.00124982167542...|                           1.0| 0.09878002875482161|\n",
            "|-0.00178801334358...|          -7.20838350968448...| 0.46184519419984815|\n",
            "| 0.14613860017659266|          -0.00579135058248...|-0.00115188381199...|\n",
            "|0.001618518484332...|          0.001553968775923...|-0.06115005419851...|\n",
            "|-0.00110713330528...|           9.27747142882833E-4|-0.10046176050171836|\n",
            "|-0.00304893456934...|           4.89441663753008E-4| 0.19150035064821175|\n",
            "| 0.18790779940329572|           0.09878002875482161|                 1.0|\n",
            "+--------------------+------------------------------+--------------------+\n",
            "\n"
          ]
        }
      ]
    },
    {
      "cell_type": "code",
      "source": [
        "df_corr.select('distance_from_home','distance_from_last_transaction','fraud').show()\n"
      ],
      "metadata": {
        "colab": {
          "base_uri": "https://localhost:8080/"
        },
        "id": "dMsGZhDKD12E",
        "outputId": "b761d55f-3a13-4df1-9e9d-ebb086c7822f"
      },
      "execution_count": 54,
      "outputs": [
        {
          "output_type": "stream",
          "name": "stdout",
          "text": [
            "+--------------------+------------------------------+--------------------+\n",
            "|  distance_from_home|distance_from_last_transaction|               fraud|\n",
            "+--------------------+------------------------------+--------------------+\n",
            "|                 1.0|          -0.00124982167542...| 0.18790779940329572|\n",
            "|-0.00124982167542...|                           1.0| 0.09878002875482161|\n",
            "|-0.00178801334358...|          -7.20838350968448...| 0.46184519419984815|\n",
            "| 0.14613860017659266|          -0.00579135058248...|-0.00115188381199...|\n",
            "|0.001618518484332...|          0.001553968775923...|-0.06115005419851...|\n",
            "|-0.00110713330528...|           9.27747142882833E-4|-0.10046176050171836|\n",
            "|-0.00304893456934...|           4.89441663753008E-4| 0.19150035064821175|\n",
            "| 0.18790779940329572|           0.09878002875482161|                 1.0|\n",
            "+--------------------+------------------------------+--------------------+\n",
            "\n"
          ]
        }
      ]
    }
  ]
}