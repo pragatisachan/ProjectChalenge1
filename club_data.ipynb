{
  "nbformat": 4,
  "nbformat_minor": 0,
  "metadata": {
    "colab": {
      "provenance": [],
      "authorship_tag": "ABX9TyOkNCw994A8eXd1vW5QQV/u",
      "include_colab_link": true
    },
    "kernelspec": {
      "name": "python3",
      "display_name": "Python 3"
    },
    "language_info": {
      "name": "python"
    }
  },
  "cells": [
    {
      "cell_type": "markdown",
      "metadata": {
        "id": "view-in-github",
        "colab_type": "text"
      },
      "source": [
        "<a href=\"https://colab.research.google.com/github/pragatisachan/ProjectChalenge1/blob/main/club_data.ipynb\" target=\"_parent\"><img src=\"https://colab.research.google.com/assets/colab-badge.svg\" alt=\"Open In Colab\"/></a>"
      ]
    },
    {
      "cell_type": "code",
      "source": [
        "import pandas as pd\n",
        "import numpy as np\n",
        "from datetime import datetime"
      ],
      "metadata": {
        "id": "rTIKqnkffpoE"
      },
      "execution_count": 5,
      "outputs": []
    },
    {
      "cell_type": "markdown",
      "source": [
        "## Load data"
      ],
      "metadata": {
        "id": "HYOLl1wagNUY"
      }
    },
    {
      "cell_type": "code",
      "source": [
        "df = pd.read_csv('/content/Merged_Data.csv')\n",
        "df"
      ],
      "metadata": {
        "colab": {
          "base_uri": "https://localhost:8080/",
          "height": 895
        },
        "id": "zdQha4YIgL5J",
        "outputId": "c456db7e-6912-4049-babd-f0ee33cb95d9"
      },
      "execution_count": 7,
      "outputs": [
        {
          "output_type": "execute_result",
          "data": {
            "text/plain": [
              "      BadgeID       DOJ_x          Suburb_x    Tier_x Gender_x Productgroup  \\\n",
              "0       11439   7/13/2024         Bonnyrigg      Base   Female     Beverage   \n",
              "1       20950  11/20/2024        Koonawarra      Base   Female       Gaming   \n",
              "2       14564   8/30/2024       Stream Hill      Base     Male       Gaming   \n",
              "3       23207  12/15/2024       Brownsville      Base   Female       Gaming   \n",
              "4       19252  10/30/2024  Albion Park Rail      Base     Male       Gaming   \n",
              "...       ...         ...               ...       ...      ...          ...   \n",
              "1112    19129  10/27/2024         Kanahooka      Base     Male       Sundry   \n",
              "1113    33645  05-10-2025       Albion Park  Platinum   Female       Gaming   \n",
              "1114    11981   7/31/2024          Plumpton      Base   Female     Beverage   \n",
              "1115    26041   1/29/2025         Kanahooka      Base   Female       Gaming   \n",
              "1116    11642   7/18/2024       Albion Park      Base     Male       Gaming   \n",
              "\n",
              "      Gyear  Gmonth      TGV First Name  ...                         Email  \\\n",
              "0      2024      11     9.60    Everest  ...     evermunzondo@yahoo.com.au   \n",
              "1      2025       2   334.02    Rosalie  ...                             -   \n",
              "2      2025       3  5482.64       John  ...                             -   \n",
              "3      2025       2   112.71      Candy  ...                             -   \n",
              "4      2025       3   286.79     Justin  ...                             -   \n",
              "...     ...     ...      ...        ...  ...                           ...   \n",
              "1112   2025       4     0.00     Steven  ...           stevedy82@gmail.com   \n",
              "1113   2025       6  2513.09       Emma  ...  emmajanekearns86@hotmail.com   \n",
              "1114   2025       1   438.50      Yupin  ...         yupinch2831@gmail.com   \n",
              "1115   2025       1   179.96    Melissa  ...                             -   \n",
              "1116   2025       4  1871.44      Lance  ...        lanceeminger@gmail.com   \n",
              "\n",
              "             OfferType Redeem Date Pre 4 Weeks Spent Same Day Spent  \\\n",
              "0     5000 Bonus Point  2024-08-10           1142.86         336.44   \n",
              "1     5000 Bonus Point  2024-12-19           1811.93         471.84   \n",
              "2     5000 Bonus Point  2024-10-29           4390.63         129.74   \n",
              "3     5000 Bonus Point  2025-01-17             52.85          39.18   \n",
              "4     5000 Bonus Point  2024-11-14            349.48         199.58   \n",
              "...                ...         ...               ...            ...   \n",
              "1112  5000 Bonus Point         NaN               NaN           0.00   \n",
              "1113  5000 Bonus Point  2025-06-21           2146.04          27.10   \n",
              "1114  5000 Bonus Point         NaN               NaN           0.00   \n",
              "1115  5000 Bonus Point  2025-02-24            184.76           0.00   \n",
              "1116  5000 Bonus Point         NaN               NaN           0.00   \n",
              "\n",
              "     Post 4 Weeks Spent Pre 4 Weeks Visits Post 4 Weeks Visits  \\\n",
              "0                303.25                3.0                 1.0   \n",
              "1                   NaN                3.0                 NaN   \n",
              "2               4313.65               18.0                17.0   \n",
              "3                125.97                1.0                 4.0   \n",
              "4                398.47                2.0                 3.0   \n",
              "...                 ...                ...                 ...   \n",
              "1112                NaN                NaN                 NaN   \n",
              "1113                NaN                2.0                 NaN   \n",
              "1114                NaN                NaN                 NaN   \n",
              "1115                NaN                1.0                 NaN   \n",
              "1116                NaN                NaN                 NaN   \n",
              "\n",
              "     4 Weeks Pre Avg Spent per Visits 4 Weeks Post Avg Spent per Visits  \n",
              "0                             1142.86                            303.25  \n",
              "1                             1811.93                               NaN  \n",
              "2                             4390.63                           4313.65  \n",
              "3                               52.85                            125.97  \n",
              "4                              349.48                            398.47  \n",
              "...                               ...                               ...  \n",
              "1112                              NaN                               NaN  \n",
              "1113                          2146.04                               NaN  \n",
              "1114                              NaN                               NaN  \n",
              "1115                           184.76                               NaN  \n",
              "1116                              NaN                               NaN  \n",
              "\n",
              "[1117 rows x 30 columns]"
            ],
            "text/html": [
              "\n",
              "  <div id=\"df-e406cd18-c11b-4bc1-b973-86d56fc1972e\" class=\"colab-df-container\">\n",
              "    <div>\n",
              "<style scoped>\n",
              "    .dataframe tbody tr th:only-of-type {\n",
              "        vertical-align: middle;\n",
              "    }\n",
              "\n",
              "    .dataframe tbody tr th {\n",
              "        vertical-align: top;\n",
              "    }\n",
              "\n",
              "    .dataframe thead th {\n",
              "        text-align: right;\n",
              "    }\n",
              "</style>\n",
              "<table border=\"1\" class=\"dataframe\">\n",
              "  <thead>\n",
              "    <tr style=\"text-align: right;\">\n",
              "      <th></th>\n",
              "      <th>BadgeID</th>\n",
              "      <th>DOJ_x</th>\n",
              "      <th>Suburb_x</th>\n",
              "      <th>Tier_x</th>\n",
              "      <th>Gender_x</th>\n",
              "      <th>Productgroup</th>\n",
              "      <th>Gyear</th>\n",
              "      <th>Gmonth</th>\n",
              "      <th>TGV</th>\n",
              "      <th>First Name</th>\n",
              "      <th>...</th>\n",
              "      <th>Email</th>\n",
              "      <th>OfferType</th>\n",
              "      <th>Redeem Date</th>\n",
              "      <th>Pre 4 Weeks Spent</th>\n",
              "      <th>Same Day Spent</th>\n",
              "      <th>Post 4 Weeks Spent</th>\n",
              "      <th>Pre 4 Weeks Visits</th>\n",
              "      <th>Post 4 Weeks Visits</th>\n",
              "      <th>4 Weeks Pre Avg Spent per Visits</th>\n",
              "      <th>4 Weeks Post Avg Spent per Visits</th>\n",
              "    </tr>\n",
              "  </thead>\n",
              "  <tbody>\n",
              "    <tr>\n",
              "      <th>0</th>\n",
              "      <td>11439</td>\n",
              "      <td>7/13/2024</td>\n",
              "      <td>Bonnyrigg</td>\n",
              "      <td>Base</td>\n",
              "      <td>Female</td>\n",
              "      <td>Beverage</td>\n",
              "      <td>2024</td>\n",
              "      <td>11</td>\n",
              "      <td>9.60</td>\n",
              "      <td>Everest</td>\n",
              "      <td>...</td>\n",
              "      <td>evermunzondo@yahoo.com.au</td>\n",
              "      <td>5000 Bonus Point</td>\n",
              "      <td>2024-08-10</td>\n",
              "      <td>1142.86</td>\n",
              "      <td>336.44</td>\n",
              "      <td>303.25</td>\n",
              "      <td>3.0</td>\n",
              "      <td>1.0</td>\n",
              "      <td>1142.86</td>\n",
              "      <td>303.25</td>\n",
              "    </tr>\n",
              "    <tr>\n",
              "      <th>1</th>\n",
              "      <td>20950</td>\n",
              "      <td>11/20/2024</td>\n",
              "      <td>Koonawarra</td>\n",
              "      <td>Base</td>\n",
              "      <td>Female</td>\n",
              "      <td>Gaming</td>\n",
              "      <td>2025</td>\n",
              "      <td>2</td>\n",
              "      <td>334.02</td>\n",
              "      <td>Rosalie</td>\n",
              "      <td>...</td>\n",
              "      <td>-</td>\n",
              "      <td>5000 Bonus Point</td>\n",
              "      <td>2024-12-19</td>\n",
              "      <td>1811.93</td>\n",
              "      <td>471.84</td>\n",
              "      <td>NaN</td>\n",
              "      <td>3.0</td>\n",
              "      <td>NaN</td>\n",
              "      <td>1811.93</td>\n",
              "      <td>NaN</td>\n",
              "    </tr>\n",
              "    <tr>\n",
              "      <th>2</th>\n",
              "      <td>14564</td>\n",
              "      <td>8/30/2024</td>\n",
              "      <td>Stream Hill</td>\n",
              "      <td>Base</td>\n",
              "      <td>Male</td>\n",
              "      <td>Gaming</td>\n",
              "      <td>2025</td>\n",
              "      <td>3</td>\n",
              "      <td>5482.64</td>\n",
              "      <td>John</td>\n",
              "      <td>...</td>\n",
              "      <td>-</td>\n",
              "      <td>5000 Bonus Point</td>\n",
              "      <td>2024-10-29</td>\n",
              "      <td>4390.63</td>\n",
              "      <td>129.74</td>\n",
              "      <td>4313.65</td>\n",
              "      <td>18.0</td>\n",
              "      <td>17.0</td>\n",
              "      <td>4390.63</td>\n",
              "      <td>4313.65</td>\n",
              "    </tr>\n",
              "    <tr>\n",
              "      <th>3</th>\n",
              "      <td>23207</td>\n",
              "      <td>12/15/2024</td>\n",
              "      <td>Brownsville</td>\n",
              "      <td>Base</td>\n",
              "      <td>Female</td>\n",
              "      <td>Gaming</td>\n",
              "      <td>2025</td>\n",
              "      <td>2</td>\n",
              "      <td>112.71</td>\n",
              "      <td>Candy</td>\n",
              "      <td>...</td>\n",
              "      <td>-</td>\n",
              "      <td>5000 Bonus Point</td>\n",
              "      <td>2025-01-17</td>\n",
              "      <td>52.85</td>\n",
              "      <td>39.18</td>\n",
              "      <td>125.97</td>\n",
              "      <td>1.0</td>\n",
              "      <td>4.0</td>\n",
              "      <td>52.85</td>\n",
              "      <td>125.97</td>\n",
              "    </tr>\n",
              "    <tr>\n",
              "      <th>4</th>\n",
              "      <td>19252</td>\n",
              "      <td>10/30/2024</td>\n",
              "      <td>Albion Park Rail</td>\n",
              "      <td>Base</td>\n",
              "      <td>Male</td>\n",
              "      <td>Gaming</td>\n",
              "      <td>2025</td>\n",
              "      <td>3</td>\n",
              "      <td>286.79</td>\n",
              "      <td>Justin</td>\n",
              "      <td>...</td>\n",
              "      <td>-</td>\n",
              "      <td>5000 Bonus Point</td>\n",
              "      <td>2024-11-14</td>\n",
              "      <td>349.48</td>\n",
              "      <td>199.58</td>\n",
              "      <td>398.47</td>\n",
              "      <td>2.0</td>\n",
              "      <td>3.0</td>\n",
              "      <td>349.48</td>\n",
              "      <td>398.47</td>\n",
              "    </tr>\n",
              "    <tr>\n",
              "      <th>...</th>\n",
              "      <td>...</td>\n",
              "      <td>...</td>\n",
              "      <td>...</td>\n",
              "      <td>...</td>\n",
              "      <td>...</td>\n",
              "      <td>...</td>\n",
              "      <td>...</td>\n",
              "      <td>...</td>\n",
              "      <td>...</td>\n",
              "      <td>...</td>\n",
              "      <td>...</td>\n",
              "      <td>...</td>\n",
              "      <td>...</td>\n",
              "      <td>...</td>\n",
              "      <td>...</td>\n",
              "      <td>...</td>\n",
              "      <td>...</td>\n",
              "      <td>...</td>\n",
              "      <td>...</td>\n",
              "      <td>...</td>\n",
              "      <td>...</td>\n",
              "    </tr>\n",
              "    <tr>\n",
              "      <th>1112</th>\n",
              "      <td>19129</td>\n",
              "      <td>10/27/2024</td>\n",
              "      <td>Kanahooka</td>\n",
              "      <td>Base</td>\n",
              "      <td>Male</td>\n",
              "      <td>Sundry</td>\n",
              "      <td>2025</td>\n",
              "      <td>4</td>\n",
              "      <td>0.00</td>\n",
              "      <td>Steven</td>\n",
              "      <td>...</td>\n",
              "      <td>stevedy82@gmail.com</td>\n",
              "      <td>5000 Bonus Point</td>\n",
              "      <td>NaN</td>\n",
              "      <td>NaN</td>\n",
              "      <td>0.00</td>\n",
              "      <td>NaN</td>\n",
              "      <td>NaN</td>\n",
              "      <td>NaN</td>\n",
              "      <td>NaN</td>\n",
              "      <td>NaN</td>\n",
              "    </tr>\n",
              "    <tr>\n",
              "      <th>1113</th>\n",
              "      <td>33645</td>\n",
              "      <td>05-10-2025</td>\n",
              "      <td>Albion Park</td>\n",
              "      <td>Platinum</td>\n",
              "      <td>Female</td>\n",
              "      <td>Gaming</td>\n",
              "      <td>2025</td>\n",
              "      <td>6</td>\n",
              "      <td>2513.09</td>\n",
              "      <td>Emma</td>\n",
              "      <td>...</td>\n",
              "      <td>emmajanekearns86@hotmail.com</td>\n",
              "      <td>5000 Bonus Point</td>\n",
              "      <td>2025-06-21</td>\n",
              "      <td>2146.04</td>\n",
              "      <td>27.10</td>\n",
              "      <td>NaN</td>\n",
              "      <td>2.0</td>\n",
              "      <td>NaN</td>\n",
              "      <td>2146.04</td>\n",
              "      <td>NaN</td>\n",
              "    </tr>\n",
              "    <tr>\n",
              "      <th>1114</th>\n",
              "      <td>11981</td>\n",
              "      <td>7/31/2024</td>\n",
              "      <td>Plumpton</td>\n",
              "      <td>Base</td>\n",
              "      <td>Female</td>\n",
              "      <td>Beverage</td>\n",
              "      <td>2025</td>\n",
              "      <td>1</td>\n",
              "      <td>438.50</td>\n",
              "      <td>Yupin</td>\n",
              "      <td>...</td>\n",
              "      <td>yupinch2831@gmail.com</td>\n",
              "      <td>5000 Bonus Point</td>\n",
              "      <td>NaN</td>\n",
              "      <td>NaN</td>\n",
              "      <td>0.00</td>\n",
              "      <td>NaN</td>\n",
              "      <td>NaN</td>\n",
              "      <td>NaN</td>\n",
              "      <td>NaN</td>\n",
              "      <td>NaN</td>\n",
              "    </tr>\n",
              "    <tr>\n",
              "      <th>1115</th>\n",
              "      <td>26041</td>\n",
              "      <td>1/29/2025</td>\n",
              "      <td>Kanahooka</td>\n",
              "      <td>Base</td>\n",
              "      <td>Female</td>\n",
              "      <td>Gaming</td>\n",
              "      <td>2025</td>\n",
              "      <td>1</td>\n",
              "      <td>179.96</td>\n",
              "      <td>Melissa</td>\n",
              "      <td>...</td>\n",
              "      <td>-</td>\n",
              "      <td>5000 Bonus Point</td>\n",
              "      <td>2025-02-24</td>\n",
              "      <td>184.76</td>\n",
              "      <td>0.00</td>\n",
              "      <td>NaN</td>\n",
              "      <td>1.0</td>\n",
              "      <td>NaN</td>\n",
              "      <td>184.76</td>\n",
              "      <td>NaN</td>\n",
              "    </tr>\n",
              "    <tr>\n",
              "      <th>1116</th>\n",
              "      <td>11642</td>\n",
              "      <td>7/18/2024</td>\n",
              "      <td>Albion Park</td>\n",
              "      <td>Base</td>\n",
              "      <td>Male</td>\n",
              "      <td>Gaming</td>\n",
              "      <td>2025</td>\n",
              "      <td>4</td>\n",
              "      <td>1871.44</td>\n",
              "      <td>Lance</td>\n",
              "      <td>...</td>\n",
              "      <td>lanceeminger@gmail.com</td>\n",
              "      <td>5000 Bonus Point</td>\n",
              "      <td>NaN</td>\n",
              "      <td>NaN</td>\n",
              "      <td>0.00</td>\n",
              "      <td>NaN</td>\n",
              "      <td>NaN</td>\n",
              "      <td>NaN</td>\n",
              "      <td>NaN</td>\n",
              "      <td>NaN</td>\n",
              "    </tr>\n",
              "  </tbody>\n",
              "</table>\n",
              "<p>1117 rows × 30 columns</p>\n",
              "</div>\n",
              "    <div class=\"colab-df-buttons\">\n",
              "\n",
              "  <div class=\"colab-df-container\">\n",
              "    <button class=\"colab-df-convert\" onclick=\"convertToInteractive('df-e406cd18-c11b-4bc1-b973-86d56fc1972e')\"\n",
              "            title=\"Convert this dataframe to an interactive table.\"\n",
              "            style=\"display:none;\">\n",
              "\n",
              "  <svg xmlns=\"http://www.w3.org/2000/svg\" height=\"24px\" viewBox=\"0 -960 960 960\">\n",
              "    <path d=\"M120-120v-720h720v720H120Zm60-500h600v-160H180v160Zm220 220h160v-160H400v160Zm0 220h160v-160H400v160ZM180-400h160v-160H180v160Zm440 0h160v-160H620v160ZM180-180h160v-160H180v160Zm440 0h160v-160H620v160Z\"/>\n",
              "  </svg>\n",
              "    </button>\n",
              "\n",
              "  <style>\n",
              "    .colab-df-container {\n",
              "      display:flex;\n",
              "      gap: 12px;\n",
              "    }\n",
              "\n",
              "    .colab-df-convert {\n",
              "      background-color: #E8F0FE;\n",
              "      border: none;\n",
              "      border-radius: 50%;\n",
              "      cursor: pointer;\n",
              "      display: none;\n",
              "      fill: #1967D2;\n",
              "      height: 32px;\n",
              "      padding: 0 0 0 0;\n",
              "      width: 32px;\n",
              "    }\n",
              "\n",
              "    .colab-df-convert:hover {\n",
              "      background-color: #E2EBFA;\n",
              "      box-shadow: 0px 1px 2px rgba(60, 64, 67, 0.3), 0px 1px 3px 1px rgba(60, 64, 67, 0.15);\n",
              "      fill: #174EA6;\n",
              "    }\n",
              "\n",
              "    .colab-df-buttons div {\n",
              "      margin-bottom: 4px;\n",
              "    }\n",
              "\n",
              "    [theme=dark] .colab-df-convert {\n",
              "      background-color: #3B4455;\n",
              "      fill: #D2E3FC;\n",
              "    }\n",
              "\n",
              "    [theme=dark] .colab-df-convert:hover {\n",
              "      background-color: #434B5C;\n",
              "      box-shadow: 0px 1px 3px 1px rgba(0, 0, 0, 0.15);\n",
              "      filter: drop-shadow(0px 1px 2px rgba(0, 0, 0, 0.3));\n",
              "      fill: #FFFFFF;\n",
              "    }\n",
              "  </style>\n",
              "\n",
              "    <script>\n",
              "      const buttonEl =\n",
              "        document.querySelector('#df-e406cd18-c11b-4bc1-b973-86d56fc1972e button.colab-df-convert');\n",
              "      buttonEl.style.display =\n",
              "        google.colab.kernel.accessAllowed ? 'block' : 'none';\n",
              "\n",
              "      async function convertToInteractive(key) {\n",
              "        const element = document.querySelector('#df-e406cd18-c11b-4bc1-b973-86d56fc1972e');\n",
              "        const dataTable =\n",
              "          await google.colab.kernel.invokeFunction('convertToInteractive',\n",
              "                                                    [key], {});\n",
              "        if (!dataTable) return;\n",
              "\n",
              "        const docLinkHtml = 'Like what you see? Visit the ' +\n",
              "          '<a target=\"_blank\" href=https://colab.research.google.com/notebooks/data_table.ipynb>data table notebook</a>'\n",
              "          + ' to learn more about interactive tables.';\n",
              "        element.innerHTML = '';\n",
              "        dataTable['output_type'] = 'display_data';\n",
              "        await google.colab.output.renderOutput(dataTable, element);\n",
              "        const docLink = document.createElement('div');\n",
              "        docLink.innerHTML = docLinkHtml;\n",
              "        element.appendChild(docLink);\n",
              "      }\n",
              "    </script>\n",
              "  </div>\n",
              "\n",
              "\n",
              "    <div id=\"df-7f76abd3-8fd1-46b0-8da5-02c5598e3f0d\">\n",
              "      <button class=\"colab-df-quickchart\" onclick=\"quickchart('df-7f76abd3-8fd1-46b0-8da5-02c5598e3f0d')\"\n",
              "                title=\"Suggest charts\"\n",
              "                style=\"display:none;\">\n",
              "\n",
              "<svg xmlns=\"http://www.w3.org/2000/svg\" height=\"24px\"viewBox=\"0 0 24 24\"\n",
              "     width=\"24px\">\n",
              "    <g>\n",
              "        <path d=\"M19 3H5c-1.1 0-2 .9-2 2v14c0 1.1.9 2 2 2h14c1.1 0 2-.9 2-2V5c0-1.1-.9-2-2-2zM9 17H7v-7h2v7zm4 0h-2V7h2v10zm4 0h-2v-4h2v4z\"/>\n",
              "    </g>\n",
              "</svg>\n",
              "      </button>\n",
              "\n",
              "<style>\n",
              "  .colab-df-quickchart {\n",
              "      --bg-color: #E8F0FE;\n",
              "      --fill-color: #1967D2;\n",
              "      --hover-bg-color: #E2EBFA;\n",
              "      --hover-fill-color: #174EA6;\n",
              "      --disabled-fill-color: #AAA;\n",
              "      --disabled-bg-color: #DDD;\n",
              "  }\n",
              "\n",
              "  [theme=dark] .colab-df-quickchart {\n",
              "      --bg-color: #3B4455;\n",
              "      --fill-color: #D2E3FC;\n",
              "      --hover-bg-color: #434B5C;\n",
              "      --hover-fill-color: #FFFFFF;\n",
              "      --disabled-bg-color: #3B4455;\n",
              "      --disabled-fill-color: #666;\n",
              "  }\n",
              "\n",
              "  .colab-df-quickchart {\n",
              "    background-color: var(--bg-color);\n",
              "    border: none;\n",
              "    border-radius: 50%;\n",
              "    cursor: pointer;\n",
              "    display: none;\n",
              "    fill: var(--fill-color);\n",
              "    height: 32px;\n",
              "    padding: 0;\n",
              "    width: 32px;\n",
              "  }\n",
              "\n",
              "  .colab-df-quickchart:hover {\n",
              "    background-color: var(--hover-bg-color);\n",
              "    box-shadow: 0 1px 2px rgba(60, 64, 67, 0.3), 0 1px 3px 1px rgba(60, 64, 67, 0.15);\n",
              "    fill: var(--button-hover-fill-color);\n",
              "  }\n",
              "\n",
              "  .colab-df-quickchart-complete:disabled,\n",
              "  .colab-df-quickchart-complete:disabled:hover {\n",
              "    background-color: var(--disabled-bg-color);\n",
              "    fill: var(--disabled-fill-color);\n",
              "    box-shadow: none;\n",
              "  }\n",
              "\n",
              "  .colab-df-spinner {\n",
              "    border: 2px solid var(--fill-color);\n",
              "    border-color: transparent;\n",
              "    border-bottom-color: var(--fill-color);\n",
              "    animation:\n",
              "      spin 1s steps(1) infinite;\n",
              "  }\n",
              "\n",
              "  @keyframes spin {\n",
              "    0% {\n",
              "      border-color: transparent;\n",
              "      border-bottom-color: var(--fill-color);\n",
              "      border-left-color: var(--fill-color);\n",
              "    }\n",
              "    20% {\n",
              "      border-color: transparent;\n",
              "      border-left-color: var(--fill-color);\n",
              "      border-top-color: var(--fill-color);\n",
              "    }\n",
              "    30% {\n",
              "      border-color: transparent;\n",
              "      border-left-color: var(--fill-color);\n",
              "      border-top-color: var(--fill-color);\n",
              "      border-right-color: var(--fill-color);\n",
              "    }\n",
              "    40% {\n",
              "      border-color: transparent;\n",
              "      border-right-color: var(--fill-color);\n",
              "      border-top-color: var(--fill-color);\n",
              "    }\n",
              "    60% {\n",
              "      border-color: transparent;\n",
              "      border-right-color: var(--fill-color);\n",
              "    }\n",
              "    80% {\n",
              "      border-color: transparent;\n",
              "      border-right-color: var(--fill-color);\n",
              "      border-bottom-color: var(--fill-color);\n",
              "    }\n",
              "    90% {\n",
              "      border-color: transparent;\n",
              "      border-bottom-color: var(--fill-color);\n",
              "    }\n",
              "  }\n",
              "</style>\n",
              "\n",
              "      <script>\n",
              "        async function quickchart(key) {\n",
              "          const quickchartButtonEl =\n",
              "            document.querySelector('#' + key + ' button');\n",
              "          quickchartButtonEl.disabled = true;  // To prevent multiple clicks.\n",
              "          quickchartButtonEl.classList.add('colab-df-spinner');\n",
              "          try {\n",
              "            const charts = await google.colab.kernel.invokeFunction(\n",
              "                'suggestCharts', [key], {});\n",
              "          } catch (error) {\n",
              "            console.error('Error during call to suggestCharts:', error);\n",
              "          }\n",
              "          quickchartButtonEl.classList.remove('colab-df-spinner');\n",
              "          quickchartButtonEl.classList.add('colab-df-quickchart-complete');\n",
              "        }\n",
              "        (() => {\n",
              "          let quickchartButtonEl =\n",
              "            document.querySelector('#df-7f76abd3-8fd1-46b0-8da5-02c5598e3f0d button');\n",
              "          quickchartButtonEl.style.display =\n",
              "            google.colab.kernel.accessAllowed ? 'block' : 'none';\n",
              "        })();\n",
              "      </script>\n",
              "    </div>\n",
              "\n",
              "  <div id=\"id_ee2931cf-380d-45b2-9597-2023b9d81f56\">\n",
              "    <style>\n",
              "      .colab-df-generate {\n",
              "        background-color: #E8F0FE;\n",
              "        border: none;\n",
              "        border-radius: 50%;\n",
              "        cursor: pointer;\n",
              "        display: none;\n",
              "        fill: #1967D2;\n",
              "        height: 32px;\n",
              "        padding: 0 0 0 0;\n",
              "        width: 32px;\n",
              "      }\n",
              "\n",
              "      .colab-df-generate:hover {\n",
              "        background-color: #E2EBFA;\n",
              "        box-shadow: 0px 1px 2px rgba(60, 64, 67, 0.3), 0px 1px 3px 1px rgba(60, 64, 67, 0.15);\n",
              "        fill: #174EA6;\n",
              "      }\n",
              "\n",
              "      [theme=dark] .colab-df-generate {\n",
              "        background-color: #3B4455;\n",
              "        fill: #D2E3FC;\n",
              "      }\n",
              "\n",
              "      [theme=dark] .colab-df-generate:hover {\n",
              "        background-color: #434B5C;\n",
              "        box-shadow: 0px 1px 3px 1px rgba(0, 0, 0, 0.15);\n",
              "        filter: drop-shadow(0px 1px 2px rgba(0, 0, 0, 0.3));\n",
              "        fill: #FFFFFF;\n",
              "      }\n",
              "    </style>\n",
              "    <button class=\"colab-df-generate\" onclick=\"generateWithVariable('df')\"\n",
              "            title=\"Generate code using this dataframe.\"\n",
              "            style=\"display:none;\">\n",
              "\n",
              "  <svg xmlns=\"http://www.w3.org/2000/svg\" height=\"24px\"viewBox=\"0 0 24 24\"\n",
              "       width=\"24px\">\n",
              "    <path d=\"M7,19H8.4L18.45,9,17,7.55,7,17.6ZM5,21V16.75L18.45,3.32a2,2,0,0,1,2.83,0l1.4,1.43a1.91,1.91,0,0,1,.58,1.4,1.91,1.91,0,0,1-.58,1.4L9.25,21ZM18.45,9,17,7.55Zm-12,3A5.31,5.31,0,0,0,4.9,8.1,5.31,5.31,0,0,0,1,6.5,5.31,5.31,0,0,0,4.9,4.9,5.31,5.31,0,0,0,6.5,1,5.31,5.31,0,0,0,8.1,4.9,5.31,5.31,0,0,0,12,6.5,5.46,5.46,0,0,0,6.5,12Z\"/>\n",
              "  </svg>\n",
              "    </button>\n",
              "    <script>\n",
              "      (() => {\n",
              "      const buttonEl =\n",
              "        document.querySelector('#id_ee2931cf-380d-45b2-9597-2023b9d81f56 button.colab-df-generate');\n",
              "      buttonEl.style.display =\n",
              "        google.colab.kernel.accessAllowed ? 'block' : 'none';\n",
              "\n",
              "      buttonEl.onclick = () => {\n",
              "        google.colab.notebook.generateWithVariable('df');\n",
              "      }\n",
              "      })();\n",
              "    </script>\n",
              "  </div>\n",
              "\n",
              "    </div>\n",
              "  </div>\n"
            ],
            "application/vnd.google.colaboratory.intrinsic+json": {
              "type": "dataframe",
              "variable_name": "df"
            }
          },
          "metadata": {},
          "execution_count": 7
        }
      ]
    },
    {
      "cell_type": "markdown",
      "source": [
        "# **# Calculate Age from DOB if needed**"
      ],
      "metadata": {
        "id": "FXAoggHDgqat"
      }
    },
    {
      "cell_type": "code",
      "source": [
        "if 'DOB' in df.columns:\n",
        "    df['DOB'] = pd.to_datetime(df['DOB'], errors='coerce')\n",
        "    df['Age'] = 2025 - df['DOB'].dt.year\n",
        "    df['Age'] = df['Age'].fillna(df['Age'].median())\n",
        "elif 'Age' not in df.columns:\n",
        "    raise ValueError(\"No 'DOB' or 'Age' column found in the data.\")\n",
        ""
      ],
      "metadata": {
        "id": "3JDFAtAhgmJr"
      },
      "execution_count": 9,
      "outputs": []
    },
    {
      "cell_type": "markdown",
      "source": [
        "# **Target**: **OfferAccepted**"
      ],
      "metadata": {
        "id": "KM4JTJ9-ho-h"
      }
    },
    {
      "cell_type": "code",
      "source": [
        "df['OfferAccepted'] = df['Redeem Date'].notnull().astype(int)"
      ],
      "metadata": {
        "id": "9iWmuUsEhnbm"
      },
      "execution_count": 10,
      "outputs": []
    },
    {
      "cell_type": "markdown",
      "source": [
        "# **Numeric columns: fill missing with** **0**"
      ],
      "metadata": {
        "id": "lF5apWrah18N"
      }
    },
    {
      "cell_type": "code",
      "source": [
        "num_cols = [\n",
        "    'Pre 4 Weeks Spent', 'Same Day Spent', 'Post 4 Weeks Spent',\n",
        "    'Pre 4 Weeks Visits', 'Post 4 Weeks Visits',\n",
        "    '4 Weeks Pre Avg Spent per Visits', '4 Weeks Post Avg Spent per Visits'\n",
        "]\n",
        "for col in num_cols:\n",
        "    df[col] = pd.to_numeric(df[col], errors='coerce').fillna(0)\n"
      ],
      "metadata": {
        "id": "QbJLc43Rh0iU"
      },
      "execution_count": 11,
      "outputs": []
    },
    {
      "cell_type": "markdown",
      "source": [
        "# **Encode categorical variables**"
      ],
      "metadata": {
        "id": "5t1b04q3iMUN"
      }
    },
    {
      "cell_type": "code",
      "source": [
        "from sklearn.preprocessing import LabelEncoder\n",
        "le_tier = LabelEncoder()\n",
        "le_gender = LabelEncoder()\n",
        "le_prod = LabelEncoder()\n",
        "\n",
        "df['Tier'] = le_tier.fit_transform(df['Tier_x'].astype(str))\n",
        "df['Gender'] = le_gender.fit_transform(df['Gender_x'].astype(str))\n",
        "df['Productgroup'] = le_prod.fit_transform(df['Productgroup'].astype(str))"
      ],
      "metadata": {
        "id": "nE66V7zMiKcR"
      },
      "execution_count": 12,
      "outputs": []
    },
    {
      "cell_type": "markdown",
      "source": [
        "## **Clustering (KMeans)**"
      ],
      "metadata": {
        "id": "-MglMul4ioJF"
      }
    },
    {
      "cell_type": "code",
      "source": [
        "from sklearn.preprocessing import StandardScaler\n",
        "from sklearn.cluster import KMeans\n",
        "\n",
        "# Features for clustering (including Age)\n",
        "cluster_features = [\n",
        "    'Tier', 'Gender', 'Productgroup', 'Age',\n",
        "    'Pre 4 Weeks Spent', 'Pre 4 Weeks Visits', '4 Weeks Pre Avg Spent per Visits'\n",
        "]\n",
        "X_cluster = df[cluster_features]\n",
        "\n",
        "# Standardize features for clustering\n",
        "scaler = StandardScaler()\n",
        "X_scaled = scaler.fit_transform(X_cluster)\n",
        "\n",
        "# KMeans clustering (choose 3 )\n",
        "kmeans = KMeans(n_clusters=3, random_state=42)\n",
        "df['Cluster'] = kmeans.fit_predict(X_scaled)\n"
      ],
      "metadata": {
        "id": "wk1C12yhimlO"
      },
      "execution_count": 28,
      "outputs": []
    },
    {
      "cell_type": "code",
      "source": [
        "# Select features\n",
        "from sklearn.model_selection import train_test_split\n",
        "features = ['Tier', 'Gender', 'Productgroup', 'Age', 'Pre 4 Weeks Spent', 'Pre 4 Weeks Visits', '4 Weeks Pre Avg Spent per Visits']\n",
        "X = df[features]\n",
        "y = df['OfferAccepted']\n",
        "\n",
        "# Split into train and test\n",
        "X_train, X_test, y_train, y_test = train_test_split(X, y, test_size=0.3, random_state=42, stratify=y)"
      ],
      "metadata": {
        "id": "EctN30H2uTpV"
      },
      "execution_count": 29,
      "outputs": []
    },
    {
      "cell_type": "markdown",
      "source": [
        "# **Train the Model**"
      ],
      "metadata": {
        "id": "KGfveW4OupEd"
      }
    },
    {
      "cell_type": "code",
      "source": [
        "from sklearn.ensemble import RandomForestClassifier\n",
        "\n",
        "clf = RandomForestClassifier(n_estimators=100, random_state=42)\n",
        "clf.fit(X_train, y_train)\n"
      ],
      "metadata": {
        "colab": {
          "base_uri": "https://localhost:8080/",
          "height": 80
        },
        "id": "vOYy7Jn4uvIF",
        "outputId": "1b3c2b69-2161-4072-bc5d-f08a3966c858"
      },
      "execution_count": 30,
      "outputs": [
        {
          "output_type": "execute_result",
          "data": {
            "text/plain": [
              "RandomForestClassifier(random_state=42)"
            ],
            "text/html": [
              "<style>#sk-container-id-1 {\n",
              "  /* Definition of color scheme common for light and dark mode */\n",
              "  --sklearn-color-text: #000;\n",
              "  --sklearn-color-text-muted: #666;\n",
              "  --sklearn-color-line: gray;\n",
              "  /* Definition of color scheme for unfitted estimators */\n",
              "  --sklearn-color-unfitted-level-0: #fff5e6;\n",
              "  --sklearn-color-unfitted-level-1: #f6e4d2;\n",
              "  --sklearn-color-unfitted-level-2: #ffe0b3;\n",
              "  --sklearn-color-unfitted-level-3: chocolate;\n",
              "  /* Definition of color scheme for fitted estimators */\n",
              "  --sklearn-color-fitted-level-0: #f0f8ff;\n",
              "  --sklearn-color-fitted-level-1: #d4ebff;\n",
              "  --sklearn-color-fitted-level-2: #b3dbfd;\n",
              "  --sklearn-color-fitted-level-3: cornflowerblue;\n",
              "\n",
              "  /* Specific color for light theme */\n",
              "  --sklearn-color-text-on-default-background: var(--sg-text-color, var(--theme-code-foreground, var(--jp-content-font-color1, black)));\n",
              "  --sklearn-color-background: var(--sg-background-color, var(--theme-background, var(--jp-layout-color0, white)));\n",
              "  --sklearn-color-border-box: var(--sg-text-color, var(--theme-code-foreground, var(--jp-content-font-color1, black)));\n",
              "  --sklearn-color-icon: #696969;\n",
              "\n",
              "  @media (prefers-color-scheme: dark) {\n",
              "    /* Redefinition of color scheme for dark theme */\n",
              "    --sklearn-color-text-on-default-background: var(--sg-text-color, var(--theme-code-foreground, var(--jp-content-font-color1, white)));\n",
              "    --sklearn-color-background: var(--sg-background-color, var(--theme-background, var(--jp-layout-color0, #111)));\n",
              "    --sklearn-color-border-box: var(--sg-text-color, var(--theme-code-foreground, var(--jp-content-font-color1, white)));\n",
              "    --sklearn-color-icon: #878787;\n",
              "  }\n",
              "}\n",
              "\n",
              "#sk-container-id-1 {\n",
              "  color: var(--sklearn-color-text);\n",
              "}\n",
              "\n",
              "#sk-container-id-1 pre {\n",
              "  padding: 0;\n",
              "}\n",
              "\n",
              "#sk-container-id-1 input.sk-hidden--visually {\n",
              "  border: 0;\n",
              "  clip: rect(1px 1px 1px 1px);\n",
              "  clip: rect(1px, 1px, 1px, 1px);\n",
              "  height: 1px;\n",
              "  margin: -1px;\n",
              "  overflow: hidden;\n",
              "  padding: 0;\n",
              "  position: absolute;\n",
              "  width: 1px;\n",
              "}\n",
              "\n",
              "#sk-container-id-1 div.sk-dashed-wrapped {\n",
              "  border: 1px dashed var(--sklearn-color-line);\n",
              "  margin: 0 0.4em 0.5em 0.4em;\n",
              "  box-sizing: border-box;\n",
              "  padding-bottom: 0.4em;\n",
              "  background-color: var(--sklearn-color-background);\n",
              "}\n",
              "\n",
              "#sk-container-id-1 div.sk-container {\n",
              "  /* jupyter's `normalize.less` sets `[hidden] { display: none; }`\n",
              "     but bootstrap.min.css set `[hidden] { display: none !important; }`\n",
              "     so we also need the `!important` here to be able to override the\n",
              "     default hidden behavior on the sphinx rendered scikit-learn.org.\n",
              "     See: https://github.com/scikit-learn/scikit-learn/issues/21755 */\n",
              "  display: inline-block !important;\n",
              "  position: relative;\n",
              "}\n",
              "\n",
              "#sk-container-id-1 div.sk-text-repr-fallback {\n",
              "  display: none;\n",
              "}\n",
              "\n",
              "div.sk-parallel-item,\n",
              "div.sk-serial,\n",
              "div.sk-item {\n",
              "  /* draw centered vertical line to link estimators */\n",
              "  background-image: linear-gradient(var(--sklearn-color-text-on-default-background), var(--sklearn-color-text-on-default-background));\n",
              "  background-size: 2px 100%;\n",
              "  background-repeat: no-repeat;\n",
              "  background-position: center center;\n",
              "}\n",
              "\n",
              "/* Parallel-specific style estimator block */\n",
              "\n",
              "#sk-container-id-1 div.sk-parallel-item::after {\n",
              "  content: \"\";\n",
              "  width: 100%;\n",
              "  border-bottom: 2px solid var(--sklearn-color-text-on-default-background);\n",
              "  flex-grow: 1;\n",
              "}\n",
              "\n",
              "#sk-container-id-1 div.sk-parallel {\n",
              "  display: flex;\n",
              "  align-items: stretch;\n",
              "  justify-content: center;\n",
              "  background-color: var(--sklearn-color-background);\n",
              "  position: relative;\n",
              "}\n",
              "\n",
              "#sk-container-id-1 div.sk-parallel-item {\n",
              "  display: flex;\n",
              "  flex-direction: column;\n",
              "}\n",
              "\n",
              "#sk-container-id-1 div.sk-parallel-item:first-child::after {\n",
              "  align-self: flex-end;\n",
              "  width: 50%;\n",
              "}\n",
              "\n",
              "#sk-container-id-1 div.sk-parallel-item:last-child::after {\n",
              "  align-self: flex-start;\n",
              "  width: 50%;\n",
              "}\n",
              "\n",
              "#sk-container-id-1 div.sk-parallel-item:only-child::after {\n",
              "  width: 0;\n",
              "}\n",
              "\n",
              "/* Serial-specific style estimator block */\n",
              "\n",
              "#sk-container-id-1 div.sk-serial {\n",
              "  display: flex;\n",
              "  flex-direction: column;\n",
              "  align-items: center;\n",
              "  background-color: var(--sklearn-color-background);\n",
              "  padding-right: 1em;\n",
              "  padding-left: 1em;\n",
              "}\n",
              "\n",
              "\n",
              "/* Toggleable style: style used for estimator/Pipeline/ColumnTransformer box that is\n",
              "clickable and can be expanded/collapsed.\n",
              "- Pipeline and ColumnTransformer use this feature and define the default style\n",
              "- Estimators will overwrite some part of the style using the `sk-estimator` class\n",
              "*/\n",
              "\n",
              "/* Pipeline and ColumnTransformer style (default) */\n",
              "\n",
              "#sk-container-id-1 div.sk-toggleable {\n",
              "  /* Default theme specific background. It is overwritten whether we have a\n",
              "  specific estimator or a Pipeline/ColumnTransformer */\n",
              "  background-color: var(--sklearn-color-background);\n",
              "}\n",
              "\n",
              "/* Toggleable label */\n",
              "#sk-container-id-1 label.sk-toggleable__label {\n",
              "  cursor: pointer;\n",
              "  display: flex;\n",
              "  width: 100%;\n",
              "  margin-bottom: 0;\n",
              "  padding: 0.5em;\n",
              "  box-sizing: border-box;\n",
              "  text-align: center;\n",
              "  align-items: start;\n",
              "  justify-content: space-between;\n",
              "  gap: 0.5em;\n",
              "}\n",
              "\n",
              "#sk-container-id-1 label.sk-toggleable__label .caption {\n",
              "  font-size: 0.6rem;\n",
              "  font-weight: lighter;\n",
              "  color: var(--sklearn-color-text-muted);\n",
              "}\n",
              "\n",
              "#sk-container-id-1 label.sk-toggleable__label-arrow:before {\n",
              "  /* Arrow on the left of the label */\n",
              "  content: \"▸\";\n",
              "  float: left;\n",
              "  margin-right: 0.25em;\n",
              "  color: var(--sklearn-color-icon);\n",
              "}\n",
              "\n",
              "#sk-container-id-1 label.sk-toggleable__label-arrow:hover:before {\n",
              "  color: var(--sklearn-color-text);\n",
              "}\n",
              "\n",
              "/* Toggleable content - dropdown */\n",
              "\n",
              "#sk-container-id-1 div.sk-toggleable__content {\n",
              "  max-height: 0;\n",
              "  max-width: 0;\n",
              "  overflow: hidden;\n",
              "  text-align: left;\n",
              "  /* unfitted */\n",
              "  background-color: var(--sklearn-color-unfitted-level-0);\n",
              "}\n",
              "\n",
              "#sk-container-id-1 div.sk-toggleable__content.fitted {\n",
              "  /* fitted */\n",
              "  background-color: var(--sklearn-color-fitted-level-0);\n",
              "}\n",
              "\n",
              "#sk-container-id-1 div.sk-toggleable__content pre {\n",
              "  margin: 0.2em;\n",
              "  border-radius: 0.25em;\n",
              "  color: var(--sklearn-color-text);\n",
              "  /* unfitted */\n",
              "  background-color: var(--sklearn-color-unfitted-level-0);\n",
              "}\n",
              "\n",
              "#sk-container-id-1 div.sk-toggleable__content.fitted pre {\n",
              "  /* unfitted */\n",
              "  background-color: var(--sklearn-color-fitted-level-0);\n",
              "}\n",
              "\n",
              "#sk-container-id-1 input.sk-toggleable__control:checked~div.sk-toggleable__content {\n",
              "  /* Expand drop-down */\n",
              "  max-height: 200px;\n",
              "  max-width: 100%;\n",
              "  overflow: auto;\n",
              "}\n",
              "\n",
              "#sk-container-id-1 input.sk-toggleable__control:checked~label.sk-toggleable__label-arrow:before {\n",
              "  content: \"▾\";\n",
              "}\n",
              "\n",
              "/* Pipeline/ColumnTransformer-specific style */\n",
              "\n",
              "#sk-container-id-1 div.sk-label input.sk-toggleable__control:checked~label.sk-toggleable__label {\n",
              "  color: var(--sklearn-color-text);\n",
              "  background-color: var(--sklearn-color-unfitted-level-2);\n",
              "}\n",
              "\n",
              "#sk-container-id-1 div.sk-label.fitted input.sk-toggleable__control:checked~label.sk-toggleable__label {\n",
              "  background-color: var(--sklearn-color-fitted-level-2);\n",
              "}\n",
              "\n",
              "/* Estimator-specific style */\n",
              "\n",
              "/* Colorize estimator box */\n",
              "#sk-container-id-1 div.sk-estimator input.sk-toggleable__control:checked~label.sk-toggleable__label {\n",
              "  /* unfitted */\n",
              "  background-color: var(--sklearn-color-unfitted-level-2);\n",
              "}\n",
              "\n",
              "#sk-container-id-1 div.sk-estimator.fitted input.sk-toggleable__control:checked~label.sk-toggleable__label {\n",
              "  /* fitted */\n",
              "  background-color: var(--sklearn-color-fitted-level-2);\n",
              "}\n",
              "\n",
              "#sk-container-id-1 div.sk-label label.sk-toggleable__label,\n",
              "#sk-container-id-1 div.sk-label label {\n",
              "  /* The background is the default theme color */\n",
              "  color: var(--sklearn-color-text-on-default-background);\n",
              "}\n",
              "\n",
              "/* On hover, darken the color of the background */\n",
              "#sk-container-id-1 div.sk-label:hover label.sk-toggleable__label {\n",
              "  color: var(--sklearn-color-text);\n",
              "  background-color: var(--sklearn-color-unfitted-level-2);\n",
              "}\n",
              "\n",
              "/* Label box, darken color on hover, fitted */\n",
              "#sk-container-id-1 div.sk-label.fitted:hover label.sk-toggleable__label.fitted {\n",
              "  color: var(--sklearn-color-text);\n",
              "  background-color: var(--sklearn-color-fitted-level-2);\n",
              "}\n",
              "\n",
              "/* Estimator label */\n",
              "\n",
              "#sk-container-id-1 div.sk-label label {\n",
              "  font-family: monospace;\n",
              "  font-weight: bold;\n",
              "  display: inline-block;\n",
              "  line-height: 1.2em;\n",
              "}\n",
              "\n",
              "#sk-container-id-1 div.sk-label-container {\n",
              "  text-align: center;\n",
              "}\n",
              "\n",
              "/* Estimator-specific */\n",
              "#sk-container-id-1 div.sk-estimator {\n",
              "  font-family: monospace;\n",
              "  border: 1px dotted var(--sklearn-color-border-box);\n",
              "  border-radius: 0.25em;\n",
              "  box-sizing: border-box;\n",
              "  margin-bottom: 0.5em;\n",
              "  /* unfitted */\n",
              "  background-color: var(--sklearn-color-unfitted-level-0);\n",
              "}\n",
              "\n",
              "#sk-container-id-1 div.sk-estimator.fitted {\n",
              "  /* fitted */\n",
              "  background-color: var(--sklearn-color-fitted-level-0);\n",
              "}\n",
              "\n",
              "/* on hover */\n",
              "#sk-container-id-1 div.sk-estimator:hover {\n",
              "  /* unfitted */\n",
              "  background-color: var(--sklearn-color-unfitted-level-2);\n",
              "}\n",
              "\n",
              "#sk-container-id-1 div.sk-estimator.fitted:hover {\n",
              "  /* fitted */\n",
              "  background-color: var(--sklearn-color-fitted-level-2);\n",
              "}\n",
              "\n",
              "/* Specification for estimator info (e.g. \"i\" and \"?\") */\n",
              "\n",
              "/* Common style for \"i\" and \"?\" */\n",
              "\n",
              ".sk-estimator-doc-link,\n",
              "a:link.sk-estimator-doc-link,\n",
              "a:visited.sk-estimator-doc-link {\n",
              "  float: right;\n",
              "  font-size: smaller;\n",
              "  line-height: 1em;\n",
              "  font-family: monospace;\n",
              "  background-color: var(--sklearn-color-background);\n",
              "  border-radius: 1em;\n",
              "  height: 1em;\n",
              "  width: 1em;\n",
              "  text-decoration: none !important;\n",
              "  margin-left: 0.5em;\n",
              "  text-align: center;\n",
              "  /* unfitted */\n",
              "  border: var(--sklearn-color-unfitted-level-1) 1pt solid;\n",
              "  color: var(--sklearn-color-unfitted-level-1);\n",
              "}\n",
              "\n",
              ".sk-estimator-doc-link.fitted,\n",
              "a:link.sk-estimator-doc-link.fitted,\n",
              "a:visited.sk-estimator-doc-link.fitted {\n",
              "  /* fitted */\n",
              "  border: var(--sklearn-color-fitted-level-1) 1pt solid;\n",
              "  color: var(--sklearn-color-fitted-level-1);\n",
              "}\n",
              "\n",
              "/* On hover */\n",
              "div.sk-estimator:hover .sk-estimator-doc-link:hover,\n",
              ".sk-estimator-doc-link:hover,\n",
              "div.sk-label-container:hover .sk-estimator-doc-link:hover,\n",
              ".sk-estimator-doc-link:hover {\n",
              "  /* unfitted */\n",
              "  background-color: var(--sklearn-color-unfitted-level-3);\n",
              "  color: var(--sklearn-color-background);\n",
              "  text-decoration: none;\n",
              "}\n",
              "\n",
              "div.sk-estimator.fitted:hover .sk-estimator-doc-link.fitted:hover,\n",
              ".sk-estimator-doc-link.fitted:hover,\n",
              "div.sk-label-container:hover .sk-estimator-doc-link.fitted:hover,\n",
              ".sk-estimator-doc-link.fitted:hover {\n",
              "  /* fitted */\n",
              "  background-color: var(--sklearn-color-fitted-level-3);\n",
              "  color: var(--sklearn-color-background);\n",
              "  text-decoration: none;\n",
              "}\n",
              "\n",
              "/* Span, style for the box shown on hovering the info icon */\n",
              ".sk-estimator-doc-link span {\n",
              "  display: none;\n",
              "  z-index: 9999;\n",
              "  position: relative;\n",
              "  font-weight: normal;\n",
              "  right: .2ex;\n",
              "  padding: .5ex;\n",
              "  margin: .5ex;\n",
              "  width: min-content;\n",
              "  min-width: 20ex;\n",
              "  max-width: 50ex;\n",
              "  color: var(--sklearn-color-text);\n",
              "  box-shadow: 2pt 2pt 4pt #999;\n",
              "  /* unfitted */\n",
              "  background: var(--sklearn-color-unfitted-level-0);\n",
              "  border: .5pt solid var(--sklearn-color-unfitted-level-3);\n",
              "}\n",
              "\n",
              ".sk-estimator-doc-link.fitted span {\n",
              "  /* fitted */\n",
              "  background: var(--sklearn-color-fitted-level-0);\n",
              "  border: var(--sklearn-color-fitted-level-3);\n",
              "}\n",
              "\n",
              ".sk-estimator-doc-link:hover span {\n",
              "  display: block;\n",
              "}\n",
              "\n",
              "/* \"?\"-specific style due to the `<a>` HTML tag */\n",
              "\n",
              "#sk-container-id-1 a.estimator_doc_link {\n",
              "  float: right;\n",
              "  font-size: 1rem;\n",
              "  line-height: 1em;\n",
              "  font-family: monospace;\n",
              "  background-color: var(--sklearn-color-background);\n",
              "  border-radius: 1rem;\n",
              "  height: 1rem;\n",
              "  width: 1rem;\n",
              "  text-decoration: none;\n",
              "  /* unfitted */\n",
              "  color: var(--sklearn-color-unfitted-level-1);\n",
              "  border: var(--sklearn-color-unfitted-level-1) 1pt solid;\n",
              "}\n",
              "\n",
              "#sk-container-id-1 a.estimator_doc_link.fitted {\n",
              "  /* fitted */\n",
              "  border: var(--sklearn-color-fitted-level-1) 1pt solid;\n",
              "  color: var(--sklearn-color-fitted-level-1);\n",
              "}\n",
              "\n",
              "/* On hover */\n",
              "#sk-container-id-1 a.estimator_doc_link:hover {\n",
              "  /* unfitted */\n",
              "  background-color: var(--sklearn-color-unfitted-level-3);\n",
              "  color: var(--sklearn-color-background);\n",
              "  text-decoration: none;\n",
              "}\n",
              "\n",
              "#sk-container-id-1 a.estimator_doc_link.fitted:hover {\n",
              "  /* fitted */\n",
              "  background-color: var(--sklearn-color-fitted-level-3);\n",
              "}\n",
              "</style><div id=\"sk-container-id-1\" class=\"sk-top-container\"><div class=\"sk-text-repr-fallback\"><pre>RandomForestClassifier(random_state=42)</pre><b>In a Jupyter environment, please rerun this cell to show the HTML representation or trust the notebook. <br />On GitHub, the HTML representation is unable to render, please try loading this page with nbviewer.org.</b></div><div class=\"sk-container\" hidden><div class=\"sk-item\"><div class=\"sk-estimator fitted sk-toggleable\"><input class=\"sk-toggleable__control sk-hidden--visually\" id=\"sk-estimator-id-1\" type=\"checkbox\" checked><label for=\"sk-estimator-id-1\" class=\"sk-toggleable__label fitted sk-toggleable__label-arrow\"><div><div>RandomForestClassifier</div></div><div><a class=\"sk-estimator-doc-link fitted\" rel=\"noreferrer\" target=\"_blank\" href=\"https://scikit-learn.org/1.6/modules/generated/sklearn.ensemble.RandomForestClassifier.html\">?<span>Documentation for RandomForestClassifier</span></a><span class=\"sk-estimator-doc-link fitted\">i<span>Fitted</span></span></div></label><div class=\"sk-toggleable__content fitted\"><pre>RandomForestClassifier(random_state=42)</pre></div> </div></div></div></div>"
            ]
          },
          "metadata": {},
          "execution_count": 30
        }
      ]
    },
    {
      "cell_type": "markdown",
      "source": [
        "# **Test the Model and Evaluate Accuracy**"
      ],
      "metadata": {
        "id": "ZJ6LHO_eu-T2"
      }
    },
    {
      "cell_type": "code",
      "source": [
        "from sklearn.metrics import accuracy_score, classification_report, confusion_matrix\n",
        "\n",
        "y_pred = clf.predict(X_test)\n",
        "print(\"Accuracy:\", accuracy_score(y_test, y_pred))\n",
        "print(classification_report(y_test, y_pred))\n",
        "\n",
        "# Confusion matrix\n",
        "import matplotlib.pyplot as plt\n",
        "import seaborn as sns\n",
        "\n",
        "cm = confusion_matrix(y_test, y_pred)\n",
        "sns.heatmap(cm, annot=True, fmt='d', cmap='Blues', xticklabels=['Rejected', 'Accepted'], yticklabels=['Rejected', 'Accepted'])\n",
        "plt.xlabel('Predicted')\n",
        "plt.ylabel('Actual')\n",
        "plt.title('Confusion Matrix')\n",
        "plt.show()\n"
      ],
      "metadata": {
        "colab": {
          "base_uri": "https://localhost:8080/",
          "height": 646
        },
        "id": "VU3VYqecvDyD",
        "outputId": "25254e12-018b-412e-fc6f-4a34e93170a9"
      },
      "execution_count": 31,
      "outputs": [
        {
          "output_type": "stream",
          "name": "stdout",
          "text": [
            "Accuracy: 0.9880952380952381\n",
            "              precision    recall  f1-score   support\n",
            "\n",
            "           0       0.99      1.00      0.99       237\n",
            "           1       0.99      0.97      0.98        99\n",
            "\n",
            "    accuracy                           0.99       336\n",
            "   macro avg       0.99      0.98      0.99       336\n",
            "weighted avg       0.99      0.99      0.99       336\n",
            "\n"
          ]
        },
        {
          "output_type": "display_data",
          "data": {
            "text/plain": [
              "<Figure size 640x480 with 2 Axes>"
            ],
            "image/png": "[encoded data removed]"
          },
          "metadata": {}
        }
      ]
    },
    {
      "cell_type": "markdown",
      "source": [
        "# **Test on Sample Data**"
      ],
      "metadata": {
        "id": "KeDpUeDw9N2H"
      }
    },
    {
      "cell_type": "code",
      "source": [
        "\n",
        "sample = X_test.sample(5, random_state=1)\n",
        "sample_pred = clf.predict(sample)\n",
        "print(\"Sample predictions (0=Rejected, 1=Accepted):\", sample_pred)\n",
        "print(\"Sample actual:\", y_test.loc[sample.index].values)\n"
      ],
      "metadata": {
        "colab": {
          "base_uri": "https://localhost:8080/"
        },
        "id": "euPGKHor82EJ",
        "outputId": "764bbe3a-3b3d-4104-be20-158c2416bd98"
      },
      "execution_count": 32,
      "outputs": [
        {
          "output_type": "stream",
          "name": "stdout",
          "text": [
            "Sample predictions (0=Rejected, 1=Accepted): [0 0 0 0 0]\n",
            "Sample actual: [0 0 0 0 0]\n"
          ]
        }
      ]
    },
    {
      "cell_type": "markdown",
      "source": [
        "# **Visualization: Offer Acceptance vs. Age**"
      ],
      "metadata": {
        "id": "PTqubKJonYMB"
      }
    },
    {
      "cell_type": "code",
      "source": [
        "import matplotlib.pyplot as plt\n",
        "import seaborn as sns\n",
        "\n",
        "plt.figure(figsize=(8,5))\n",
        "sns.boxplot(x='OfferAccepted', y='Age', data=df)\n",
        "plt.title('Age Distribution by Offer Acceptance')\n",
        "plt.xlabel('Offer Accepted')\n",
        "plt.ylabel('Age')\n",
        "plt.xticks([0,1], ['Rejected', 'Accepted'])\n",
        "plt.show()\n"
      ],
      "metadata": {
        "colab": {
          "base_uri": "https://localhost:8080/",
          "height": 487
        },
        "id": "YKUsG3QKjVhx",
        "outputId": "ecec7991-918d-47ae-e149-fd042269e45d"
      },
      "execution_count": 15,
      "outputs": [
        {
          "output_type": "display_data",
          "data": {
            "text/plain": [
              "<Figure size 800x500 with 1 Axes>"
            ],
            "image/png": "[encoded data removed]"
          },
          "metadata": {}
        }
      ]
    },
    {
      "cell_type": "markdown",
      "source": [
        "# **Visualization: Offer Acceptance Rate by Cluster**"
      ],
      "metadata": {
        "id": "WL9VUvkDnqNn"
      }
    },
    {
      "cell_type": "code",
      "source": [
        "plt.figure(figsize=(7,4))\n",
        "sns.barplot(x='Cluster', y='OfferAccepted', data=df, estimator=np.mean)\n",
        "plt.title('Offer Acceptance Rate by Cluster')\n",
        "plt.ylabel('Acceptance Rate')\n",
        "plt.xlabel('Cluster')\n",
        "plt.show()\n"
      ],
      "metadata": {
        "colab": {
          "base_uri": "https://localhost:8080/",
          "height": 410
        },
        "id": "oWwrZmUSnn3D",
        "outputId": "9ecaf0d7-5c9e-4e44-98e7-1d8bda0ee735"
      },
      "execution_count": 17,
      "outputs": [
        {
          "output_type": "display_data",
          "data": {
            "text/plain": [
              "<Figure size 700x400 with 1 Axes>"
            ],
            "image/png": "[encoded data removed]"
          },
          "metadata": {}
        }
      ]
    },
    {
      "cell_type": "markdown",
      "source": [
        "# **Visualization: Cluster Profiles**\n"
      ],
      "metadata": {
        "id": "PTi4otZXnxoL"
      }
    },
    {
      "cell_type": "code",
      "source": [
        "cluster_summary = df.groupby('Cluster').agg({\n",
        "    'Age': 'mean',\n",
        "    'Pre 4 Weeks Spent': 'mean',\n",
        "    'OfferAccepted': 'mean'\n",
        "}).reset_index()\n",
        "\n",
        "# Plot average age and spend per cluster\n",
        "fig, ax1 = plt.subplots(figsize=(8,5))\n",
        "sns.barplot(x='Cluster', y='Age', data=cluster_summary, ax=ax1, color='skyblue')\n",
        "ax1.set_ylabel('Average Age', color='skyblue')\n",
        "ax2 = ax1.twinx()\n",
        "sns.lineplot(x='Cluster', y='Pre 4 Weeks Spent', data=cluster_summary, ax=ax2, color='orange', marker='o')\n",
        "ax2.set_ylabel('Avg Pre 4 Weeks Spent', color='orange')\n",
        "plt.title('Cluster Profiles: Age and Pre-Offer Spend')\n",
        "plt.show()\n"
      ],
      "metadata": {
        "colab": {
          "base_uri": "https://localhost:8080/",
          "height": 487
        },
        "id": "-ZS7UGkknv3c",
        "outputId": "fe3afe06-0293-4200-c1ee-10fd2b651e71"
      },
      "execution_count": 18,
      "outputs": [
        {
          "output_type": "display_data",
          "data": {
            "text/plain": [
              "<Figure size 800x500 with 2 Axes>"
            ],
            "image/png": "[encoded data removed]"
          },
          "metadata": {}
        }
      ]
    },
    {
      "cell_type": "markdown",
      "source": [
        "# **Visualization: Offer Acceptance vs. Age (Scatter)**"
      ],
      "metadata": {
        "id": "lT9sWA1OoSNw"
      }
    },
    {
      "cell_type": "code",
      "source": [
        "plt.figure(figsize=(8,5))\n",
        "sns.scatterplot(x='Age', y='Pre 4 Weeks Spent', hue='OfferAccepted', data=df, alpha=0.7)\n",
        "plt.title('Offer Acceptance by Age and Pre-Offer Spend')\n",
        "plt.xlabel('Age')\n",
        "plt.ylabel('Pre 4 Weeks Spent')\n",
        "plt.legend(title='Offer Accepted', labels=['Rejected', 'Accepted'])\n",
        "plt.show()\n"
      ],
      "metadata": {
        "colab": {
          "base_uri": "https://localhost:8080/",
          "height": 487
        },
        "id": "3L1sP-AJoBXa",
        "outputId": "33f62462-a0c6-4e3a-d496-c54a90cdf9fc"
      },
      "execution_count": 19,
      "outputs": [
        {
          "output_type": "display_data",
          "data": {
            "text/plain": [
              "<Figure size 800x500 with 1 Axes>"
            ],
            "image/png": "[encoded data removed]"
          },
          "metadata": {}
        }
      ]
    },
    {
      "cell_type": "markdown",
      "source": [],
      "metadata": {
        "id": "cWtzkgoMoJ2j"
      }
    },
    {
      "cell_type": "markdown",
      "source": [
        "# **Heatmap: Acceptance Rate by Product Group and Gender**"
      ],
      "metadata": {
        "id": "HQynXmCWoufC"
      }
    },
    {
      "cell_type": "code",
      "source": [
        "pivot = pd.pivot_table(df, values='OfferAccepted', index='Productgroup', columns='Gender_x', aggfunc=np.mean)\n",
        "plt.figure(figsize=(8,6))\n",
        "sns.heatmap(pivot, annot=True, cmap='YlGnBu')\n",
        "plt.title('Acceptance Rate by Product Group and Gender')\n",
        "plt.ylabel('Product Group')\n",
        "plt.xlabel('Gender')\n",
        "plt.show()\n"
      ],
      "metadata": {
        "colab": {
          "base_uri": "https://localhost:8080/",
          "height": 619
        },
        "id": "qSAQ4WVeo0TR",
        "outputId": "b2365e78-9531-4c1e-8823-2ed1d74e4e8b"
      },
      "execution_count": 21,
      "outputs": [
        {
          "output_type": "stream",
          "name": "stderr",
          "text": [
            "/tmp/ipython-input-21-2027151046.py:1: FutureWarning: The provided callable <function mean at 0x7cd0e03da3e0> is currently using DataFrameGroupBy.mean. In a future version of pandas, the provided callable will be used directly. To keep current behavior pass the string \"mean\" instead.\n",
            "  pivot = pd.pivot_table(df, values='OfferAccepted', index='Productgroup', columns='Gender_x', aggfunc=np.mean)\n"
          ]
        },
        {
          "output_type": "display_data",
          "data": {
            "text/plain": [
              "<Figure size 800x600 with 2 Axes>"
            ],
            "image/png": "[encoded data removed]"
          },
          "metadata": {}
        }
      ]
    },
    {
      "cell_type": "markdown",
      "source": [
        "Cluster **Visualization**"
      ],
      "metadata": {
        "id": "bcjandHGpG9O"
      }
    },
    {
      "cell_type": "code",
      "source": [
        "# Assuming you have a 'Cluster' column from KMeans\n",
        "sns.barplot(x='Cluster', y='OfferAccepted', data=df, estimator=np.mean)\n",
        "plt.title('Offer Acceptance Rate by Cluster')\n",
        "plt.ylabel('Acceptance Rate')\n",
        "plt.xlabel('Cluster')\n",
        "plt.show()\n"
      ],
      "metadata": {
        "colab": {
          "base_uri": "https://localhost:8080/",
          "height": 472
        },
        "id": "3XfqXq7zpFOr",
        "outputId": "f279fcbe-27b0-42ab-857e-8902ce1e86ed"
      },
      "execution_count": 23,
      "outputs": [
        {
          "output_type": "display_data",
          "data": {
            "text/plain": [
              "<Figure size 640x480 with 1 Axes>"
            ],
            "image/png": "[encoded data removed]"
          },
          "metadata": {}
        }
      ]
    },
    {
      "cell_type": "markdown",
      "source": [
        "What do clusters 0, 1, 2 represent?\n",
        "\n",
        "Cluster numbers are arbitrary. For example, cluster 0 could be mostly young, high-spending members, or it could be older, low-spending members—it depends on your data and how the algorithm grouped them.\n",
        "\n",
        "You must interpret the clusters by examining their characteristics. This is usually done by looking at the average values of key features (like Age, Productgroup, Spend, OfferAccepted) within each cluster."
      ],
      "metadata": {
        "id": "iBMFNiOCqAhB"
      }
    },
    {
      "cell_type": "markdown",
      "source": [
        "# **Profile Each Cluster**"
      ],
      "metadata": {
        "id": "TVJl7ByeryKP"
      }
    },
    {
      "cell_type": "code",
      "source": [
        "# Assuming df['Cluster'] contains your cluster labels\n",
        "cluster_profile = df.groupby('Cluster').agg({\n",
        "    'Age': 'mean',\n",
        "    'Pre 4 Weeks Spent': 'mean',\n",
        "    'OfferAccepted': 'mean',\n",
        "    'Productgroup': lambda x: x.value_counts().index[0],  # Most common product group\n",
        "    'Tier': lambda x: x.value_counts().index[0],          # Most common tier\n",
        "    # Add more features if you want\n",
        "}).reset_index()\n",
        "\n",
        "print(cluster_profile)\n"
      ],
      "metadata": {
        "colab": {
          "base_uri": "https://localhost:8080/"
        },
        "id": "ABYcuE82p-dw",
        "outputId": "a1d1252c-3e14-44e7-8ec4-c724c54012c3"
      },
      "execution_count": 24,
      "outputs": [
        {
          "output_type": "stream",
          "name": "stdout",
          "text": [
            "   Cluster        Age  Pre 4 Weeks Spent  OfferAccepted  Productgroup  Tier\n",
            "0        0  46.811594          79.070596       0.194847             3     0\n",
            "1        1  51.701944         199.252808       0.380130             3     0\n",
            "2        2  71.000000        4390.630000       1.000000             3     0\n"
          ]
        }
      ]
    },
    {
      "cell_type": "markdown",
      "source": [
        "Cluster 0: Younger, high spenders, mostly gaming, high acceptance rate.\n",
        "\n",
        "Cluster 1: Older, low spenders, mostly sundry, low acceptance rate.\n",
        "\n",
        "Cluster 2: Middle-aged, moderate spenders, mostly beverage, moderate acceptance"
      ],
      "metadata": {
        "id": "TkzUsPCmsVoA"
      }
    },
    {
      "cell_type": "markdown",
      "source": [
        "# **Visualize Cluster Acceptance Rate**"
      ],
      "metadata": {
        "id": "jMQYkKkSsMBJ"
      }
    },
    {
      "cell_type": "code",
      "source": [
        "import seaborn as sns\n",
        "import matplotlib.pyplot as plt\n",
        "\n",
        "sns.barplot(x='Cluster', y='OfferAccepted', data=df, estimator=np.mean)\n",
        "plt.title('Offer Acceptance Rate by Cluster')\n",
        "plt.ylabel('Acceptance Rate')\n",
        "plt.xlabel('Cluster')\n",
        "plt.show()\n"
      ],
      "metadata": {
        "colab": {
          "base_uri": "https://localhost:8080/",
          "height": 472
        },
        "id": "K_WGFLBwr-Fz",
        "outputId": "957af1eb-345d-41f0-8c31-537b49f8c210"
      },
      "execution_count": 26,
      "outputs": [
        {
          "output_type": "display_data",
          "data": {
            "text/plain": [
              "<Figure size 640x480 with 1 Axes>"
            ],
            "image/png": "[encoded data removed]"
          },
          "metadata": {}
        }
      ]
    },
    {
      "cell_type": "markdown",
      "source": [
        "Summary\n",
        "Cluster 0, 1, 2 are just group labels.\n",
        "\n",
        "Their meaning comes from the characteristics of the members in each group (age, spend, tier, productgroup, acceptance rate, etc.).\n",
        "\n",
        "You must profile each cluster to understand what kind of members it contains."
      ],
      "metadata": {
        "id": "5hBJUln5sg2R"
      }
    },
    {
      "cell_type": "code",
      "source": [],
      "metadata": {
        "id": "uClsBbEGsawZ"
      },
      "execution_count": null,
      "outputs": []
    }
  ]
}